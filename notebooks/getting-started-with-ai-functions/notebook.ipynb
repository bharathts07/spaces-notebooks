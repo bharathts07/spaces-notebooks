{
  "cells": [
    {
      "id": "c2656b68",
      "cell_type": "markdown",
      "metadata": {},
      "source": [
        "<div id=\"singlestore-header\" style=\"display: flex; background-color: rgba(235, 249, 245, 0.25); padding: 5px;\">\n",
        "    <div id=\"icon-image\" style=\"width: 90px; height: 90px;\">\n",
        "        <img width=\"100%\" height=\"100%\" src=\"https://raw.githubusercontent.com/singlestore-labs/spaces-notebooks/master/common/images/header-icons/browser.png\" />\n",
        "    </div>\n",
        "    <div id=\"text\" style=\"padding: 5px; margin-left: 10px;\">\n",
        "        <div id=\"badge\" style=\"display: inline-block; background-color: rgba(0, 0, 0, 0.15); border-radius: 4px; padding: 4px 8px; align-items: center; margin-top: 6px; margin-bottom: -2px; font-size: 80%\">SingleStore Notebooks</div>\n",
        "        <h1 style=\"font-weight: 500; margin: 8px 0 0 4px;\">Demonstrate some common AI function usecases</h1>\n",
        "    </div>\n",
        "</div>"
      ]
    },
    {
      "attachments": {},
      "cell_type": "markdown",
      "id": "5831c1ac",
      "metadata": {},
      "source": [
        "<div class=\"alert alert-block alert-warning\">\n",
        "    <b class=\"fa fa-solid fa-exclamation-circle\"></b>\n",
        "    <div>\n",
        "        <p><b>Note</b></p>\n",
        "        <p>You can use your existing Standard or Premium workspace with this Notebook.</p>\n",
        "    </div>\n",
        "</div>\n",
        "\n",
        "\n",
        "This feature is currently in **Private Preview**. Please reach out to support@singlestore.com to confirm if this feature can be enabled in your org.\n",
        "\n",
        "This Jupyter notebook will help you:\n",
        "1. Load the Amazon Fine Foods Reviews dataset from Kaggle\n",
        "2. Store the data in SingleStore\n",
        "3. Demonstrate powerful AI Functions for text processing and analysis\n",
        "\n",
        "**Prerequisites**: Ensure AI Functions are installed on your deployment (AI Services > AI & ML Functions)."
      ]
    },
    {
      "attachments": {},
      "cell_type": "markdown",
      "id": "ea429156",
      "metadata": {},
      "source": [
        "## Create some simple tables\n",
        "\n",
        "This setup establishes a basic relational structure to store some reviews for restaurants. Ensure you have selected a database and have CREATE permissions to create/delete tables."
      ]
    },
    {
      "cell_type": "code",
      "execution_count": 1,
      "id": "f3b10b76",
      "metadata": {},
      "outputs": [],
      "source": [
        "%%sql\n",
        "CREATE DATABASE IF NOT EXISTS temp;\n",
        "USE temp;"
      ]
    },
    {
      "cell_type": "code",
      "execution_count": 2,
      "id": "1f8ccd75",
      "metadata": {},
      "outputs": [
        {
          "data": {
            "text/html": [
              "<table>\n",
              "    <thead>\n",
              "        <tr>\n",
              "        </tr>\n",
              "    </thead>\n",
              "    <tbody>\n",
              "    </tbody>\n",
              "</table>"
            ],
            "text/plain": [
              "++\n",
              "||\n",
              "++\n",
              "++"
            ]
          },
          "execution_count": 3,
          "metadata": {},
          "output_type": "execute_result"
        }
      ],
      "source": [
        "%%sql\n",
        "DROP TABLE IF EXISTS reviews;\n",
        "\n",
        "CREATE TABLE IF NOT EXISTS reviews (\n",
        "    Id INT PRIMARY KEY,\n",
        "    ProductId VARCHAR(20),\n",
        "    UserId VARCHAR(50),\n",
        "    ProfileName VARCHAR(255),\n",
        "    HelpfulnessNumerator INT,\n",
        "    HelpfulnessDenominator INT,\n",
        "    Score INT,\n",
        "    Time BIGINT,\n",
        "    Summary TEXT,\n",
        "    Text TEXT\n",
        ");"
      ]
    },
    {
      "attachments": {},
      "cell_type": "markdown",
      "id": "6a2118dd",
      "metadata": {},
      "source": [
        "## Install the required packages"
      ]
    },
    {
      "cell_type": "code",
      "execution_count": 3,
      "id": "40350277",
      "metadata": {},
      "outputs": [
        {
          "name": "stdout",
          "output_type": "stream",
          "text": [
            "Collecting kagglehub\n",
            "  Downloading kagglehub-0.3.13-py3-none-any.whl.metadata (38 kB)\n",
            "Requirement already satisfied: pandas in /opt/conda/lib/python3.11/site-packages (2.0.3)\n",
            "Requirement already satisfied: packaging in /opt/conda/lib/python3.11/site-packages (from kagglehub) (24.0)\n",
            "Requirement already satisfied: pyyaml in /opt/conda/lib/python3.11/site-packages (from kagglehub) (6.0.1)\n",
            "Requirement already satisfied: requests in /opt/conda/lib/python3.11/site-packages (from kagglehub) (2.31.0)\n",
            "Requirement already satisfied: tqdm in /opt/conda/lib/python3.11/site-packages (from kagglehub) (4.66.4)\n",
            "Requirement already satisfied: python-dateutil>=2.8.2 in /opt/conda/lib/python3.11/site-packages (from pandas) (2.8.2)\n",
            "Requirement already satisfied: pytz>=2020.1 in /opt/conda/lib/python3.11/site-packages (from pandas) (2024.1)\n",
            "Requirement already satisfied: tzdata>=2022.1 in /opt/conda/lib/python3.11/site-packages (from pandas) (2025.2)\n",
            "Requirement already satisfied: numpy>=1.21.0 in /opt/conda/lib/python3.11/site-packages (from pandas) (1.26.4)\n",
            "Requirement already satisfied: six>=1.5 in /opt/conda/lib/python3.11/site-packages (from python-dateutil>=2.8.2->pandas) (1.16.0)\n",
            "Requirement already satisfied: charset-normalizer<4,>=2 in /opt/conda/lib/python3.11/site-packages (from requests->kagglehub) (2.0.7)\n",
            "Requirement already satisfied: idna<4,>=2.5 in /opt/conda/lib/python3.11/site-packages (from requests->kagglehub) (3.3)\n",
            "Requirement already satisfied: urllib3<3,>=1.21.1 in /opt/conda/lib/python3.11/site-packages (from requests->kagglehub) (1.26.16)\n",
            "Requirement already satisfied: certifi>=2017.4.17 in /opt/conda/lib/python3.11/site-packages (from requests->kagglehub) (2024.7.4)\n",
            "Downloading kagglehub-0.3.13-py3-none-any.whl (68 kB)\n",
            "\u001b[2K   \u001b[90m\u2501\u2501\u2501\u2501\u2501\u2501\u2501\u2501\u2501\u2501\u2501\u2501\u2501\u2501\u2501\u2501\u2501\u2501\u2501\u2501\u2501\u2501\u2501\u2501\u2501\u2501\u2501\u2501\u2501\u2501\u2501\u2501\u2501\u2501\u2501\u2501\u2501\u2501\u2501\u2501\u001b[0m \u001b[32m68.3/68.3 kB\u001b[0m \u001b[31m36.2 MB/s\u001b[0m eta \u001b[36m0:00:00\u001b[0m\n",
            "\u001b[?25hInstalling collected packages: kagglehub\n",
            "Successfully installed kagglehub-0.3.13\n"
          ]
        }
      ],
      "source": [
        "!pip install -q httplib2 kagglehub pandas"
      ]
    },
    {
      "attachments": {},
      "cell_type": "markdown",
      "id": "97437a79",
      "metadata": {},
      "source": [
        "## Download and Load Dataset"
      ]
    },
    {
      "cell_type": "code",
      "execution_count": 4,
      "id": "cf62cc7e",
      "metadata": {},
      "outputs": [
        {
          "name": "stdout",
          "output_type": "stream",
          "text": [
            "Downloading dataset from Kaggle...\n",
            "Downloading from https://www.kaggle.com/api/v1/datasets/download/snap/amazon-fine-food-reviews?dataset_version_number=2...\n"
          ]
        },
        {
          "name": "stderr",
          "output_type": "stream",
          "text": [
            "100%|\u2588\u2588\u2588\u2588\u2588\u2588\u2588\u2588\u2588\u2588| 242M/242M [00:01<00:00, 164MB/s]  "
          ]
        },
        {
          "name": "stdout",
          "output_type": "stream",
          "text": [
            "Extracting files...\n"
          ]
        },
        {
          "name": "stderr",
          "output_type": "stream",
          "text": [
            "\n"
          ]
        },
        {
          "name": "stdout",
          "output_type": "stream",
          "text": [
            "Dataset downloaded to: /home/jovyan/.cache/kagglehub/datasets/snap/amazon-fine-food-reviews/versions/2\n",
            "\n",
            "Dataset shape: (568454, 10)\n",
            "Columns: ['Id', 'ProductId', 'UserId', 'ProfileName', 'HelpfulnessNumerator', 'HelpfulnessDenominator', 'Score', 'Time', 'Summary', 'Text']\n",
            "\n",
            "First few rows:\n"
          ]
        },
        {
          "data": {
            "text/html": [
              "<div>\n",
              "<style scoped>\n",
              "    .dataframe tbody tr th:only-of-type {\n",
              "        vertical-align: middle;\n",
              "    }\n",
              "\n",
              "    .dataframe tbody tr th {\n",
              "        vertical-align: top;\n",
              "    }\n",
              "\n",
              "    .dataframe thead th {\n",
              "        text-align: right;\n",
              "    }\n",
              "</style>\n",
              "<table border=\"1\" class=\"dataframe\">\n",
              "  <thead>\n",
              "    <tr style=\"text-align: right;\">\n",
              "      <th></th>\n",
              "      <th>Id</th>\n",
              "      <th>ProductId</th>\n",
              "      <th>UserId</th>\n",
              "      <th>ProfileName</th>\n",
              "      <th>HelpfulnessNumerator</th>\n",
              "      <th>HelpfulnessDenominator</th>\n",
              "      <th>Score</th>\n",
              "      <th>Time</th>\n",
              "      <th>Summary</th>\n",
              "      <th>Text</th>\n",
              "    </tr>\n",
              "  </thead>\n",
              "  <tbody>\n",
              "    <tr>\n",
              "      <th>0</th>\n",
              "      <td>1</td>\n",
              "      <td>B001E4KFG0</td>\n",
              "      <td>A3SGXH7AUHU8GW</td>\n",
              "      <td>delmartian</td>\n",
              "      <td>1</td>\n",
              "      <td>1</td>\n",
              "      <td>5</td>\n",
              "      <td>1303862400</td>\n",
              "      <td>Good Quality Dog Food</td>\n",
              "      <td>I have bought several of the Vitality canned d...</td>\n",
              "    </tr>\n",
              "    <tr>\n",
              "      <th>1</th>\n",
              "      <td>2</td>\n",
              "      <td>B00813GRG4</td>\n",
              "      <td>A1D87F6ZCVE5NK</td>\n",
              "      <td>dll pa</td>\n",
              "      <td>0</td>\n",
              "      <td>0</td>\n",
              "      <td>1</td>\n",
              "      <td>1346976000</td>\n",
              "      <td>Not as Advertised</td>\n",
              "      <td>Product arrived labeled as Jumbo Salted Peanut...</td>\n",
              "    </tr>\n",
              "    <tr>\n",
              "      <th>2</th>\n",
              "      <td>3</td>\n",
              "      <td>B000LQOCH0</td>\n",
              "      <td>ABXLMWJIXXAIN</td>\n",
              "      <td>Natalia Corres \"Natalia Corres\"</td>\n",
              "      <td>1</td>\n",
              "      <td>1</td>\n",
              "      <td>4</td>\n",
              "      <td>1219017600</td>\n",
              "      <td>\"Delight\" says it all</td>\n",
              "      <td>This is a confection that has been around a fe...</td>\n",
              "    </tr>\n",
              "    <tr>\n",
              "      <th>3</th>\n",
              "      <td>4</td>\n",
              "      <td>B000UA0QIQ</td>\n",
              "      <td>A395BORC6FGVXV</td>\n",
              "      <td>Karl</td>\n",
              "      <td>3</td>\n",
              "      <td>3</td>\n",
              "      <td>2</td>\n",
              "      <td>1307923200</td>\n",
              "      <td>Cough Medicine</td>\n",
              "      <td>If you are looking for the secret ingredient i...</td>\n",
              "    </tr>\n",
              "    <tr>\n",
              "      <th>4</th>\n",
              "      <td>5</td>\n",
              "      <td>B006K2ZZ7K</td>\n",
              "      <td>A1UQRSCLF8GW1T</td>\n",
              "      <td>Michael D. Bigham \"M. Wassir\"</td>\n",
              "      <td>0</td>\n",
              "      <td>0</td>\n",
              "      <td>5</td>\n",
              "      <td>1350777600</td>\n",
              "      <td>Great taffy</td>\n",
              "      <td>Great taffy at a great price.  There was a wid...</td>\n",
              "    </tr>\n",
              "  </tbody>\n",
              "</table>\n",
              "</div>"
            ],
            "text/plain": [
              "   Id   ProductId          UserId                      ProfileName  \\\n",
              "0   1  B001E4KFG0  A3SGXH7AUHU8GW                       delmartian   \n",
              "1   2  B00813GRG4  A1D87F6ZCVE5NK                           dll pa   \n",
              "2   3  B000LQOCH0   ABXLMWJIXXAIN  Natalia Corres \"Natalia Corres\"   \n",
              "3   4  B000UA0QIQ  A395BORC6FGVXV                             Karl   \n",
              "4   5  B006K2ZZ7K  A1UQRSCLF8GW1T    Michael D. Bigham \"M. Wassir\"   \n",
              "\n",
              "   HelpfulnessNumerator  HelpfulnessDenominator  Score        Time  \\\n",
              "0                     1                       1      5  1303862400   \n",
              "1                     0                       0      1  1346976000   \n",
              "2                     1                       1      4  1219017600   \n",
              "3                     3                       3      2  1307923200   \n",
              "4                     0                       0      5  1350777600   \n",
              "\n",
              "                 Summary                                               Text  \n",
              "0  Good Quality Dog Food  I have bought several of the Vitality canned d...  \n",
              "1      Not as Advertised  Product arrived labeled as Jumbo Salted Peanut...  \n",
              "2  \"Delight\" says it all  This is a confection that has been around a fe...  \n",
              "3         Cough Medicine  If you are looking for the secret ingredient i...  \n",
              "4            Great taffy  Great taffy at a great price.  There was a wid...  "
            ]
          },
          "execution_count": 5,
          "metadata": {},
          "output_type": "execute_result"
        }
      ],
      "source": [
        "import kagglehub\n",
        "import pandas as pd\n",
        "\n",
        "# Download the Amazon Fine Foods Reviews dataset from Kaggle\n",
        "print(\"Downloading dataset from Kaggle...\")\n",
        "path = kagglehub.dataset_download(\"snap/amazon-fine-food-reviews\")\n",
        "print(f\"Dataset downloaded to: {path}\")\n",
        "\n",
        "# Read the CSV file\n",
        "df = pd.read_csv(f\"{path}/Reviews.csv\")\n",
        "\n",
        "# Display dataset info\n",
        "print(f\"\\nDataset shape: {df.shape}\")\n",
        "print(f\"Columns: {list(df.columns)}\")\n",
        "print(\"\\nFirst few rows:\")\n",
        "df.head()"
      ]
    },
    {
      "attachments": {},
      "cell_type": "markdown",
      "id": "0c938c99",
      "metadata": {},
      "source": [
        "## Load Data into SingleStore"
      ]
    },
    {
      "cell_type": "code",
      "execution_count": 5,
      "id": "4d427d08",
      "metadata": {},
      "outputs": [
        {
          "name": "stdout",
          "output_type": "stream",
          "text": [
            "Loading 10000 reviews into SingleStore...\n",
            "Data loaded successfully!\n"
          ]
        }
      ],
      "source": [
        "import singlestoredb as s2\n",
        "\n",
        "# Create SQLAlchemy engine instead of regular connection\n",
        "engine = s2.create_engine()\n",
        "\n",
        "# Take a sample of 10,000 reviews for demo purposes\n",
        "sample_df = df.head(10000).copy()\n",
        "\n",
        "print(f\"Loading {len(sample_df)} reviews into SingleStore...\")\n",
        "\n",
        "# Write dataframe to SingleStore table using SQLAlchemy engine\n",
        "sample_df.to_sql(\n",
        "    'reviews',\n",
        "    con=engine,  # Use engine instead of connection\n",
        "    if_exists='append',\n",
        "    index=False,\n",
        "    chunksize=1000\n",
        ")\n",
        "\n",
        "print(\"Data loaded successfully!\")"
      ]
    },
    {
      "attachments": {},
      "cell_type": "markdown",
      "id": "ee21f51b",
      "metadata": {},
      "source": [
        " ## Verify Data Load"
      ]
    },
    {
      "cell_type": "code",
      "execution_count": 6,
      "id": "8423c269",
      "metadata": {},
      "outputs": [
        {
          "data": {
            "text/html": [
              "<span style=\"color: green\">1 rows affected.</span>"
            ],
            "text/plain": [
              "1 rows affected."
            ]
          },
          "metadata": {},
          "output_type": "display_data"
        },
        {
          "data": {
            "text/html": [
              "<table>\n",
              "    <thead>\n",
              "        <tr>\n",
              "            <th>total_reviews</th>\n",
              "        </tr>\n",
              "    </thead>\n",
              "    <tbody>\n",
              "        <tr>\n",
              "            <td>10000</td>\n",
              "        </tr>\n",
              "    </tbody>\n",
              "</table>"
            ],
            "text/plain": [
              "+---------------+\n",
              "| total_reviews |\n",
              "+---------------+\n",
              "|     10000     |\n",
              "+---------------+"
            ]
          },
          "execution_count": 7,
          "metadata": {},
          "output_type": "execute_result"
        }
      ],
      "source": [
        "%%sql\n",
        "-- Check the number of reviews loaded\n",
        "SELECT COUNT(*) as total_reviews FROM reviews;"
      ]
    },
    {
      "attachments": {},
      "cell_type": "markdown",
      "id": "d6c8e487",
      "metadata": {},
      "source": [
        "## Sample Data Preview"
      ]
    },
    {
      "cell_type": "code",
      "execution_count": 7,
      "id": "ccefec53",
      "metadata": {},
      "outputs": [
        {
          "data": {
            "text/html": [
              "<span style=\"color: green\">10 rows affected.</span>"
            ],
            "text/plain": [
              "10 rows affected."
            ]
          },
          "metadata": {},
          "output_type": "display_data"
        },
        {
          "data": {
            "text/html": [
              "<table>\n",
              "    <thead>\n",
              "        <tr>\n",
              "            <th>Id</th>\n",
              "            <th>ProductId</th>\n",
              "            <th>Score</th>\n",
              "            <th>Summary</th>\n",
              "            <th>Review_Preview</th>\n",
              "        </tr>\n",
              "    </thead>\n",
              "    <tbody>\n",
              "        <tr>\n",
              "            <td>24</td>\n",
              "            <td>B001GVISJM</td>\n",
              "            <td>5</td>\n",
              "            <td>Twizzlers</td>\n",
              "            <td>I love this candy.  After weight watchers I had to cut back but still have a craving for it.</td>\n",
              "        </tr>\n",
              "        <tr>\n",
              "            <td>302</td>\n",
              "            <td>B001UJEN6C</td>\n",
              "            <td>5</td>\n",
              "            <td>Tested by a trucker</td>\n",
              "            <td>I drive OTR...Over the Road truck and this helps to keep me alert. It has no sugar high & no crash. </td>\n",
              "        </tr>\n",
              "        <tr>\n",
              "            <td>415</td>\n",
              "            <td>B003XV5LHK</td>\n",
              "            <td>5</td>\n",
              "            <td>Double the pleasure!</td>\n",
              "            <td>If you like Oreo's or the Oreo cakester, then you've got to try the Double Stuff cakesters!!! These </td>\n",
              "        </tr>\n",
              "        <tr>\n",
              "            <td>599</td>\n",
              "            <td>B000G6RYNE</td>\n",
              "            <td>5</td>\n",
              "            <td>These chips will make you fat</td>\n",
              "            <td>But you will enjoy ever step. I gained 5 lbs within a month of buying this 12 pack of full sized bag</td>\n",
              "        </tr>\n",
              "        <tr>\n",
              "            <td>651</td>\n",
              "            <td>B001EPPCNK</td>\n",
              "            <td>5</td>\n",
              "            <td>Bavarian Creme Flavor Oil</td>\n",
              "            <td>We make up a coffee creamer with 1/4 part commercial coffee creamer, vanilla, butter creme, almond a</td>\n",
              "        </tr>\n",
              "        <tr>\n",
              "            <td>710</td>\n",
              "            <td>B000G6MBX2</td>\n",
              "            <td>5</td>\n",
              "            <td>Plocky's Tortilla Chips, Red Beans 'N Rice</td>\n",
              "            <td>We ordered these only because the Black Beans and Rice,which we really. really love, was out of stoc</td>\n",
              "        </tr>\n",
              "        <tr>\n",
              "            <td>856</td>\n",
              "            <td>B0007NG568</td>\n",
              "            <td>2</td>\n",
              "            <td>Funny taste</td>\n",
              "            <td>I can't eat these oats, they have a funny taste to them.  My kids also think they taste funny.  My h</td>\n",
              "        </tr>\n",
              "        <tr>\n",
              "            <td>1068</td>\n",
              "            <td>B0017ZBPTW</td>\n",
              "            <td>3</td>\n",
              "            <td>Too pricey</td>\n",
              "            <td>It's a good idea to have raw sugar type cubes, but this was 3x the cost of granulated raw sugar</td>\n",
              "        </tr>\n",
              "        <tr>\n",
              "            <td>1295</td>\n",
              "            <td>B002WJYCR4</td>\n",
              "            <td>5</td>\n",
              "            <td>Deeee-licious!</td>\n",
              "            <td>OMG these things are delicious!@ I'm not a candy/sweets eater usually.. but ... OhMan! I liked them </td>\n",
              "        </tr>\n",
              "        <tr>\n",
              "            <td>1304</td>\n",
              "            <td>B001FA1L7U</td>\n",
              "            <td>5</td>\n",
              "            <td>The Best!</td>\n",
              "            <td>Not always available at our local stores. I love them. They are especially good watching football ga</td>\n",
              "        </tr>\n",
              "    </tbody>\n",
              "</table>"
            ],
            "text/plain": [
              "+------+------------+-------+--------------------------------------------+------------------------------------------------------------------------------------------------------+\n",
              "|  Id  | ProductId  | Score |                  Summary                   |                                            Review_Preview                                            |\n",
              "+------+------------+-------+--------------------------------------------+------------------------------------------------------------------------------------------------------+\n",
              "|  24  | B001GVISJM |   5   |                 Twizzlers                  |     I love this candy.  After weight watchers I had to cut back but still have a craving for it.     |\n",
              "| 302  | B001UJEN6C |   5   |            Tested by a trucker             | I drive OTR...Over the Road truck and this helps to keep me alert. It has no sugar high & no crash.  |\n",
              "| 415  | B003XV5LHK |   5   |            Double the pleasure!            | If you like Oreo's or the Oreo cakester, then you've got to try the Double Stuff cakesters!!! These  |\n",
              "| 599  | B000G6RYNE |   5   |       These chips will make you fat        | But you will enjoy ever step. I gained 5 lbs within a month of buying this 12 pack of full sized bag |\n",
              "| 651  | B001EPPCNK |   5   |         Bavarian Creme Flavor Oil          | We make up a coffee creamer with 1/4 part commercial coffee creamer, vanilla, butter creme, almond a |\n",
              "| 710  | B000G6MBX2 |   5   | Plocky's Tortilla Chips, Red Beans 'N Rice | We ordered these only because the Black Beans and Rice,which we really. really love, was out of stoc |\n",
              "| 856  | B0007NG568 |   2   |                Funny taste                 | I can't eat these oats, they have a funny taste to them.  My kids also think they taste funny.  My h |\n",
              "| 1068 | B0017ZBPTW |   3   |                 Too pricey                 |   It's a good idea to have raw sugar type cubes, but this was 3x the cost of granulated raw sugar    |\n",
              "| 1295 | B002WJYCR4 |   5   |               Deeee-licious!               | OMG these things are delicious!@ I'm not a candy/sweets eater usually.. but ... OhMan! I liked them  |\n",
              "| 1304 | B001FA1L7U |   5   |                 The Best!                  | Not always available at our local stores. I love them. They are especially good watching football ga |\n",
              "+------+------------+-------+--------------------------------------------+------------------------------------------------------------------------------------------------------+"
            ]
          },
          "execution_count": 8,
          "metadata": {},
          "output_type": "execute_result"
        }
      ],
      "source": [
        "%%sql\n",
        "-- View sample reviews\n",
        "SELECT Id, ProductId, Score, Summary, LEFT(Text, 100) as Review_Preview\n",
        "FROM reviews\n",
        "LIMIT 10;"
      ]
    },
    {
      "attachments": {},
      "cell_type": "markdown",
      "id": "0bb3deb8",
      "metadata": {},
      "source": [
        "## AI Functions Demonstrations\n",
        "\n",
        "Now let's explore the power of SingleStore AI Functions for text analysis and processing.\n",
        "Ensure that AI functions are enabled for the org and you are able to list the available AI functions"
      ]
    },
    {
      "cell_type": "code",
      "execution_count": 8,
      "id": "bd293861",
      "metadata": {},
      "outputs": [
        {
          "data": {
            "text/html": [
              "<span style=\"color: green\">10 rows affected.</span>"
            ],
            "text/plain": [
              "10 rows affected."
            ]
          },
          "metadata": {},
          "output_type": "display_data"
        },
        {
          "data": {
            "text/html": [
              "<table>\n",
              "    <thead>\n",
              "        <tr>\n",
              "            <th>Functions_in_cluster</th>\n",
              "            <th>Function Type</th>\n",
              "            <th>Definer</th>\n",
              "            <th>Data Format</th>\n",
              "            <th>Runtime Type</th>\n",
              "            <th>Link</th>\n",
              "            <th>Options</th>\n",
              "        </tr>\n",
              "    </thead>\n",
              "    <tbody>\n",
              "        <tr>\n",
              "            <td>AI_CLASSIFY</td>\n",
              "            <td>External User Defined Function</td>\n",
              "            <td>cluster-admin@%</td>\n",
              "            <td>ROWDAT_1</td>\n",
              "            <td>Managed Service</td>\n",
              "            <td></td>\n",
              "            <td></td>\n",
              "        </tr>\n",
              "        <tr>\n",
              "            <td>AI_COMPLETE</td>\n",
              "            <td>External User Defined Function</td>\n",
              "            <td>cluster-admin@%</td>\n",
              "            <td>ROWDAT_1</td>\n",
              "            <td>Managed Service</td>\n",
              "            <td></td>\n",
              "            <td></td>\n",
              "        </tr>\n",
              "        <tr>\n",
              "            <td>AI_EXTRACT</td>\n",
              "            <td>External User Defined Function</td>\n",
              "            <td>cluster-admin@%</td>\n",
              "            <td>ROWDAT_1</td>\n",
              "            <td>Managed Service</td>\n",
              "            <td></td>\n",
              "            <td></td>\n",
              "        </tr>\n",
              "        <tr>\n",
              "            <td>AI_SENTIMENT</td>\n",
              "            <td>External User Defined Function</td>\n",
              "            <td>cluster-admin@%</td>\n",
              "            <td>ROWDAT_1</td>\n",
              "            <td>Managed Service</td>\n",
              "            <td></td>\n",
              "            <td></td>\n",
              "        </tr>\n",
              "        <tr>\n",
              "            <td>AI_SUMMARIZE</td>\n",
              "            <td>External User Defined Function</td>\n",
              "            <td>cluster-admin@%</td>\n",
              "            <td>ROWDAT_1</td>\n",
              "            <td>Managed Service</td>\n",
              "            <td></td>\n",
              "            <td></td>\n",
              "        </tr>\n",
              "        <tr>\n",
              "            <td>AI_TRANSLATE</td>\n",
              "            <td>External User Defined Function</td>\n",
              "            <td>cluster-admin@%</td>\n",
              "            <td>ROWDAT_1</td>\n",
              "            <td>Managed Service</td>\n",
              "            <td></td>\n",
              "            <td></td>\n",
              "        </tr>\n",
              "        <tr>\n",
              "            <td>EMBED_TEXT</td>\n",
              "            <td>External User Defined Function</td>\n",
              "            <td>cluster-admin@%</td>\n",
              "            <td>ROWDAT_1</td>\n",
              "            <td>Managed Service</td>\n",
              "            <td></td>\n",
              "            <td></td>\n",
              "        </tr>\n",
              "        <tr>\n",
              "            <td>ML_ANOMALY_DETECT</td>\n",
              "            <td>External User Defined Function</td>\n",
              "            <td>cluster-admin@%</td>\n",
              "            <td>ROWDAT_1</td>\n",
              "            <td>Managed Service</td>\n",
              "            <td></td>\n",
              "            <td></td>\n",
              "        </tr>\n",
              "        <tr>\n",
              "            <td>ML_CLASSIFY</td>\n",
              "            <td>External User Defined Function</td>\n",
              "            <td>cluster-admin@%</td>\n",
              "            <td>ROWDAT_1</td>\n",
              "            <td>Managed Service</td>\n",
              "            <td></td>\n",
              "            <td></td>\n",
              "        </tr>\n",
              "        <tr>\n",
              "            <td>VECTOR_SIMILARITY</td>\n",
              "            <td>External User Defined Function</td>\n",
              "            <td>cluster-admin@%</td>\n",
              "            <td>ROWDAT_1</td>\n",
              "            <td>Managed Service</td>\n",
              "            <td></td>\n",
              "            <td></td>\n",
              "        </tr>\n",
              "    </tbody>\n",
              "</table>"
            ],
            "text/plain": [
              "+----------------------+--------------------------------+-----------------+-------------+-----------------+------+---------+\n",
              "| Functions_in_cluster |         Function Type          |     Definer     | Data Format |   Runtime Type  | Link | Options |\n",
              "+----------------------+--------------------------------+-----------------+-------------+-----------------+------+---------+\n",
              "|     AI_CLASSIFY      | External User Defined Function | cluster-admin@% |   ROWDAT_1  | Managed Service |      |         |\n",
              "|     AI_COMPLETE      | External User Defined Function | cluster-admin@% |   ROWDAT_1  | Managed Service |      |         |\n",
              "|      AI_EXTRACT      | External User Defined Function | cluster-admin@% |   ROWDAT_1  | Managed Service |      |         |\n",
              "|     AI_SENTIMENT     | External User Defined Function | cluster-admin@% |   ROWDAT_1  | Managed Service |      |         |\n",
              "|     AI_SUMMARIZE     | External User Defined Function | cluster-admin@% |   ROWDAT_1  | Managed Service |      |         |\n",
              "|     AI_TRANSLATE     | External User Defined Function | cluster-admin@% |   ROWDAT_1  | Managed Service |      |         |\n",
              "|      EMBED_TEXT      | External User Defined Function | cluster-admin@% |   ROWDAT_1  | Managed Service |      |         |\n",
              "|  ML_ANOMALY_DETECT   | External User Defined Function | cluster-admin@% |   ROWDAT_1  | Managed Service |      |         |\n",
              "|     ML_CLASSIFY      | External User Defined Function | cluster-admin@% |   ROWDAT_1  | Managed Service |      |         |\n",
              "|  VECTOR_SIMILARITY   | External User Defined Function | cluster-admin@% |   ROWDAT_1  | Managed Service |      |         |\n",
              "+----------------------+--------------------------------+-----------------+-------------+-----------------+------+---------+"
            ]
          },
          "execution_count": 9,
          "metadata": {},
          "output_type": "execute_result"
        }
      ],
      "source": [
        "%%sql\n",
        "USE cluster;\n",
        "SHOW functions;"
      ]
    },
    {
      "cell_type": "code",
      "execution_count": 9,
      "id": "05d5d27a",
      "metadata": {},
      "outputs": [
        {
          "data": {
            "text/html": [
              "<span style=\"color: green\">1 rows affected.</span>"
            ],
            "text/plain": [
              "1 rows affected."
            ]
          },
          "metadata": {},
          "output_type": "display_data"
        },
        {
          "data": {
            "text/html": [
              "<table>\n",
              "    <thead>\n",
              "        <tr>\n",
              "            <th>completion</th>\n",
              "        </tr>\n",
              "    </thead>\n",
              "    <tbody>\n",
              "        <tr>\n",
              "            <td>SingleStore is a unified, cloud-native database designed for scalable data processing, analytics, and real-time applications. It combines transactional and analytical capabilities in one platform, allowing businesses to handle large volumes of data with high performance and low latency.</td>\n",
              "        </tr>\n",
              "    </tbody>\n",
              "</table>"
            ],
            "text/plain": [
              "+-------------------------------------------------------------------------------------------------------------------------------------------------------------------------------------------------------------------------------------------------------------------------------------------------+\n",
              "|                                                                                                                                            completion                                                                                                                                           |\n",
              "+-------------------------------------------------------------------------------------------------------------------------------------------------------------------------------------------------------------------------------------------------------------------------------------------------+\n",
              "| SingleStore is a unified, cloud-native database designed for scalable data processing, analytics, and real-time applications. It combines transactional and analytical capabilities in one platform, allowing businesses to handle large volumes of data with high performance and low latency. |\n",
              "+-------------------------------------------------------------------------------------------------------------------------------------------------------------------------------------------------------------------------------------------------------------------------------------------------+"
            ]
          },
          "execution_count": 10,
          "metadata": {},
          "output_type": "execute_result"
        }
      ],
      "source": [
        "%%sql\n",
        "-- AI_COMPLETE: Ask general questions and get LLM-powered completions\n",
        "SELECT cluster.AI_COMPLETE(\n",
        "    'What is SingleStore?'\n",
        ") AS completion;"
      ]
    },
    {
      "cell_type": "code",
      "execution_count": 10,
      "id": "9f842a0d",
      "metadata": {},
      "outputs": [
        {
          "data": {
            "text/html": [
              "<span style=\"color: green\">1 rows affected.</span>"
            ],
            "text/plain": [
              "1 rows affected."
            ]
          },
          "metadata": {},
          "output_type": "display_data"
        },
        {
          "data": {
            "text/html": [
              "<table>\n",
              "    <thead>\n",
              "        <tr>\n",
              "            <th>Id</th>\n",
              "            <th>ProductId</th>\n",
              "            <th>Score</th>\n",
              "            <th>Review_Snippet</th>\n",
              "            <th>sentiment</th>\n",
              "        </tr>\n",
              "    </thead>\n",
              "    <tbody>\n",
              "        <tr>\n",
              "            <td>187</td>\n",
              "            <td>B000NY8ODS</td>\n",
              "            <td>5</td>\n",
              "            <td>This packet of glaze is the secret to making those European style fresh fruit ta</td>\n",
              "            <td>{<br>  \"score\": 0.8,<br>  \"sentiment\": \"positive\"<br>}</td>\n",
              "        </tr>\n",
              "    </tbody>\n",
              "</table>"
            ],
            "text/plain": [
              "+-----+------------+-------+----------------------------------------------------------------------------------+---------------------------+\n",
              "|  Id | ProductId  | Score |                                  Review_Snippet                                  |         sentiment         |\n",
              "+-----+------------+-------+----------------------------------------------------------------------------------+---------------------------+\n",
              "| 187 | B000NY8ODS |   5   | This packet of glaze is the secret to making those European style fresh fruit ta |             {             |\n",
              "|     |            |       |                                                                                  |        \"score\": 0.8,      |\n",
              "|     |            |       |                                                                                  |   \"sentiment\": \"positive\" |\n",
              "|     |            |       |                                                                                  |             }             |\n",
              "+-----+------------+-------+----------------------------------------------------------------------------------+---------------------------+"
            ]
          },
          "execution_count": 11,
          "metadata": {},
          "output_type": "execute_result"
        }
      ],
      "source": [
        "%%sql\n",
        "-- AI_SENTIMENT: Analyze sentiment of customer reviews for a specific product\n",
        "-- WHERE ProductId = <Your choice>\n",
        "-- Remember to specify the datbase name. In this example 'temp' is the Database name\n",
        "SELECT\n",
        "    Id,\n",
        "    ProductId,\n",
        "    Score,\n",
        "    LEFT(Text, 80) as Review_Snippet,\n",
        "    cluster.AI_SENTIMENT(Text) AS sentiment\n",
        "FROM temp.reviews\n",
        "WHERE ProductId = 'B000NY8ODS'\n",
        "LIMIT 10;"
      ]
    },
    {
      "cell_type": "code",
      "execution_count": 11,
      "id": "56ff7a17",
      "metadata": {},
      "outputs": [
        {
          "data": {
            "text/html": [
              "<span style=\"color: green\">5 rows affected.</span>"
            ],
            "text/plain": [
              "5 rows affected."
            ]
          },
          "metadata": {},
          "output_type": "display_data"
        },
        {
          "data": {
            "text/html": [
              "<table>\n",
              "    <thead>\n",
              "        <tr>\n",
              "            <th>ProductId</th>\n",
              "            <th>review_count</th>\n",
              "            <th>overall_sentiment</th>\n",
              "        </tr>\n",
              "    </thead>\n",
              "    <tbody>\n",
              "        <tr>\n",
              "            <td>B001L1DYAA</td>\n",
              "            <td>1</td>\n",
              "            <td>{\"score\": 0.8, \"sentiment\": \"positive\"}</td>\n",
              "        </tr>\n",
              "        <tr>\n",
              "            <td>B004391DK0</td>\n",
              "            <td>3</td>\n",
              "            <td>{\"score\": 0.85, \"sentiment\": \"positive\"}</td>\n",
              "        </tr>\n",
              "        <tr>\n",
              "            <td>B0016FY6H6</td>\n",
              "            <td>1</td>\n",
              "            <td>{<br>  \"score\": 0.6,<br>  \"sentiment\": \"positive\"<br>}</td>\n",
              "        </tr>\n",
              "        <tr>\n",
              "            <td>B00139TT72</td>\n",
              "            <td>2</td>\n",
              "            <td>{<br>  \"sentiment\": \"neutral\",<br>  \"score\": 0.1<br>}</td>\n",
              "        </tr>\n",
              "        <tr>\n",
              "            <td>B000E7WM0K</td>\n",
              "            <td>2</td>\n",
              "            <td>{<br>  \"score\": 0.4,<br>  \"sentiment\": \"positive\"<br>}</td>\n",
              "        </tr>\n",
              "    </tbody>\n",
              "</table>"
            ],
            "text/plain": [
              "+------------+--------------+------------------------------------------+\n",
              "| ProductId  | review_count |            overall_sentiment             |\n",
              "+------------+--------------+------------------------------------------+\n",
              "| B001L1DYAA |      1       | {\"score\": 0.8, \"sentiment\": \"positive\"}  |\n",
              "| B004391DK0 |      3       | {\"score\": 0.85, \"sentiment\": \"positive\"} |\n",
              "| B0016FY6H6 |      1       |                    {                     |\n",
              "|            |              |               \"score\": 0.6,              |\n",
              "|            |              |          \"sentiment\": \"positive\"         |\n",
              "|            |              |                    }                     |\n",
              "| B00139TT72 |      2       |                    {                     |\n",
              "|            |              |          \"sentiment\": \"neutral\",         |\n",
              "|            |              |                \"score\": 0.1              |\n",
              "|            |              |                    }                     |\n",
              "| B000E7WM0K |      2       |                    {                     |\n",
              "|            |              |               \"score\": 0.4,              |\n",
              "|            |              |          \"sentiment\": \"positive\"         |\n",
              "|            |              |                    }                     |\n",
              "+------------+--------------+------------------------------------------+"
            ]
          },
          "execution_count": 12,
          "metadata": {},
          "output_type": "execute_result"
        }
      ],
      "source": [
        "%%sql\n",
        "-- Aggregate sentiment analysis across products\n",
        "-- Using CTE to filter and prepare data first\n",
        "WITH filtered_reviews AS (\n",
        "    SELECT\n",
        "        ProductId,\n",
        "        Text\n",
        "    FROM temp.reviews\n",
        "    WHERE ProductId IN (\n",
        "        SELECT ProductId\n",
        "        FROM temp.reviews\n",
        "        GROUP BY ProductId\n",
        "        HAVING COUNT(*) >= 5\n",
        "    )\n",
        "    LIMIT 100\n",
        "),\n",
        "grouped_reviews AS (\n",
        "    SELECT\n",
        "        ProductId,\n",
        "        COUNT(*) as review_count,\n",
        "        GROUP_CONCAT(Text SEPARATOR '. ') as combined_text\n",
        "    FROM filtered_reviews\n",
        "    GROUP BY ProductId\n",
        "    LIMIT 5\n",
        ")\n",
        "SELECT\n",
        "    ProductId,\n",
        "    review_count,\n",
        "    cluster.AI_SENTIMENT(combined_text) as overall_sentiment\n",
        "FROM grouped_reviews;"
      ]
    },
    {
      "cell_type": "code",
      "execution_count": 12,
      "id": "b9786b66",
      "metadata": {},
      "outputs": [
        {
          "data": {
            "text/html": [
              "<span style=\"color: green\">5 rows affected.</span>"
            ],
            "text/plain": [
              "5 rows affected."
            ]
          },
          "metadata": {},
          "output_type": "display_data"
        },
        {
          "data": {
            "text/html": [
              "<table>\n",
              "    <thead>\n",
              "        <tr>\n",
              "            <th>Id</th>\n",
              "            <th>ProductId</th>\n",
              "            <th>Original_Review</th>\n",
              "            <th>summary</th>\n",
              "        </tr>\n",
              "    </thead>\n",
              "    <tbody>\n",
              "        <tr>\n",
              "            <td>121</td>\n",
              "            <td>B003SE19UK</td>\n",
              "            <td>I have done a lot of research to find the best food for my cat, and this is an excellent food.  That is also according to my holistic veterinarian.  T</td>\n",
              "            <td>Excellent probiotic food; cat loved it immediately, approved by holistic veterinarian.</td>\n",
              "        </tr>\n",
              "        <tr>\n",
              "            <td>187</td>\n",
              "            <td>B000NY8ODS</td>\n",
              "            <td>This packet of glaze is the secret to making those European style fresh fruit tarts. I am about to make one for a pie auction at church, after a frien</td>\n",
              "            <td>European-style fruit tarts use glaze for fresh fruit, hold shape, and enhance appearance.</td>\n",
              "        </tr>\n",
              "        <tr>\n",
              "            <td>498</td>\n",
              "            <td>B000G6RYNE</td>\n",
              "            <td>Kettle Chips Spicy Thai potato chips have the perfect amount of sweet, savory and spicy-- everything you'd want in a good meal or better yet...a potat</td>\n",
              "            <td>Kettle Chips Spicy Thai offers sweet, tangy, mildly spicy crunch with no artificial ingredients.</td>\n",
              "        </tr>\n",
              "        <tr>\n",
              "            <td>690</td>\n",
              "            <td>B000G6MBX2</td>\n",
              "            <td>My aunt gave me a bag of these and I was immediately addicted. There are actual pieces of beans in the chips and they are not overly salty like other </td>\n",
              "            <td>Bean chips with real beans, not too salty, no trans fat, delicious and addictive.</td>\n",
              "        </tr>\n",
              "        <tr>\n",
              "            <td>795</td>\n",
              "            <td>B00285FF6O</td>\n",
              "            <td>The best chocolate in the world, in this critic's humble opinion, is made in the United States. And the best chocolate in the United States is made in</td>\n",
              "            <td>Ghirardelli in California makes the best U.S. chocolate, widely available and exquisite.</td>\n",
              "        </tr>\n",
              "    </tbody>\n",
              "</table>"
            ],
            "text/plain": [
              "+-----+------------+--------------------------------------------------------------------------------------------------------------------------------------------------------+--------------------------------------------------------------------------------------------------+\n",
              "|  Id | ProductId  |                                                                    Original_Review                                                                     |                                             summary                                              |\n",
              "+-----+------------+--------------------------------------------------------------------------------------------------------------------------------------------------------+--------------------------------------------------------------------------------------------------+\n",
              "| 121 | B003SE19UK | I have done a lot of research to find the best food for my cat, and this is an excellent food.  That is also according to my holistic veterinarian.  T |      Excellent probiotic food; cat loved it immediately, approved by holistic veterinarian.      |\n",
              "| 187 | B000NY8ODS | This packet of glaze is the secret to making those European style fresh fruit tarts. I am about to make one for a pie auction at church, after a frien |    European-style fruit tarts use glaze for fresh fruit, hold shape, and enhance appearance.     |\n",
              "| 498 | B000G6RYNE | Kettle Chips Spicy Thai potato chips have the perfect amount of sweet, savory and spicy-- everything you'd want in a good meal or better yet...a potat | Kettle Chips Spicy Thai offers sweet, tangy, mildly spicy crunch with no artificial ingredients. |\n",
              "| 690 | B000G6MBX2 | My aunt gave me a bag of these and I was immediately addicted. There are actual pieces of beans in the chips and they are not overly salty like other  |        Bean chips with real beans, not too salty, no trans fat, delicious and addictive.         |\n",
              "| 795 | B00285FF6O | The best chocolate in the world, in this critic's humble opinion, is made in the United States. And the best chocolate in the United States is made in |     Ghirardelli in California makes the best U.S. chocolate, widely available and exquisite.     |\n",
              "+-----+------------+--------------------------------------------------------------------------------------------------------------------------------------------------------+--------------------------------------------------------------------------------------------------+"
            ]
          },
          "execution_count": 13,
          "metadata": {},
          "output_type": "execute_result"
        }
      ],
      "source": [
        "%%sql\n",
        "-- AI_SUMMARIZE: Create concise summaries of lengthy reviews\n",
        "-- Filter long reviews first using CTE\n",
        "WITH long_reviews AS (\n",
        "    SELECT\n",
        "        Id,\n",
        "        ProductId,\n",
        "        Text,\n",
        "        LEFT(Text, 150) as Original_Review\n",
        "    FROM temp.reviews\n",
        "    WHERE LENGTH(Text) > 200\n",
        "    LIMIT 5\n",
        ")\n",
        "SELECT\n",
        "    Id,\n",
        "    ProductId,\n",
        "    Original_Review,\n",
        "    cluster.AI_SUMMARIZE(\n",
        "        Text,\n",
        "        'aifunctions_chat_default',\n",
        "        15\n",
        "    ) AS summary\n",
        "FROM long_reviews;"
      ]
    },
    {
      "cell_type": "code",
      "execution_count": 13,
      "id": "4febc8e0",
      "metadata": {},
      "outputs": [
        {
          "data": {
            "text/html": [
              "<span style=\"color: green\">10 rows affected.</span>"
            ],
            "text/plain": [
              "10 rows affected."
            ]
          },
          "metadata": {},
          "output_type": "display_data"
        },
        {
          "data": {
            "text/html": [
              "<table>\n",
              "    <thead>\n",
              "        <tr>\n",
              "            <th>Id</th>\n",
              "            <th>ProductId</th>\n",
              "            <th>Review_Text</th>\n",
              "            <th>classification</th>\n",
              "        </tr>\n",
              "    </thead>\n",
              "    <tbody>\n",
              "        <tr>\n",
              "            <td>1445</td>\n",
              "            <td>B001E50UEQ</td>\n",
              "            <td>Me and my wife have tried a wide range of the Hormel compleats, and this is by far the worst tasting</td>\n",
              "            <td>taste</td>\n",
              "        </tr>\n",
              "        <tr>\n",
              "            <td>1540</td>\n",
              "            <td>B000E7WM0K</td>\n",
              "            <td>We enjoy A Taste of Tai's Peanut Noodles... they rock.  That peanutty flavor...mmm... so we decided </td>\n",
              "            <td>taste</td>\n",
              "        </tr>\n",
              "        <tr>\n",
              "            <td>1627</td>\n",
              "            <td>B001RVFDOO</td>\n",
              "            <td>I agree with many of these reviews.  The product tastes good - not fantastic but good.  I don't like</td>\n",
              "            <td>taste</td>\n",
              "        </tr>\n",
              "        <tr>\n",
              "            <td>2117</td>\n",
              "            <td>B00061EXBU</td>\n",
              "            <td>you won't BELIEVE how many ways this product has saved my life!  I only gave it one star because i'm</td>\n",
              "            <td>price</td>\n",
              "        </tr>\n",
              "        <tr>\n",
              "            <td>2890</td>\n",
              "            <td>B000F9Z1WI</td>\n",
              "            <td>It's very nice that the company put 100 calories packages out--great marketing idea.  They taste oka</td>\n",
              "            <td>taste</td>\n",
              "        </tr>\n",
              "        <tr>\n",
              "            <td>3079</td>\n",
              "            <td>B000FDKQCO</td>\n",
              "            <td>I like that this item has flax seed in it but the whole wheat flower makes it very grainy.  It is al</td>\n",
              "            <td>taste</td>\n",
              "        </tr>\n",
              "        <tr>\n",
              "            <td>3150</td>\n",
              "            <td>B000FDKQCY</td>\n",
              "            <td>howdy y'all,<br /><br />this bread is pretty good. the potato flavor is there, recognizable as potat</td>\n",
              "            <td>taste</td>\n",
              "        </tr>\n",
              "        <tr>\n",
              "            <td>3415</td>\n",
              "            <td>B005K4Q1VI</td>\n",
              "            <td>With <a href=\"http://www.amazon.com/gp/product/B00389Q4XW\">Green Mountain Hot Cocoa</a> being perpet</td>\n",
              "            <td>taste</td>\n",
              "        </tr>\n",
              "        <tr>\n",
              "            <td>3456</td>\n",
              "            <td>B005K4Q1VI</td>\n",
              "            <td>this product taste stale and is full of artificial ingredients.<br />NO REAL PEPPERMINT IS IN THIS P</td>\n",
              "            <td>taste</td>\n",
              "        </tr>\n",
              "        <tr>\n",
              "            <td>3563</td>\n",
              "            <td>B004G8ZAS4</td>\n",
              "            <td>These arrived fresh and in a timely manner.  However, flavor-wise our family is in agreement that Je</td>\n",
              "            <td>taste</td>\n",
              "        </tr>\n",
              "    </tbody>\n",
              "</table>"
            ],
            "text/plain": [
              "+------+------------+------------------------------------------------------------------------------------------------------+----------------+\n",
              "|  Id  | ProductId  |                                             Review_Text                                              | classification |\n",
              "+------+------------+------------------------------------------------------------------------------------------------------+----------------+\n",
              "| 1445 | B001E50UEQ | Me and my wife have tried a wide range of the Hormel compleats, and this is by far the worst tasting |     taste      |\n",
              "| 1540 | B000E7WM0K | We enjoy A Taste of Tai's Peanut Noodles... they rock.  That peanutty flavor...mmm... so we decided  |     taste      |\n",
              "| 1627 | B001RVFDOO | I agree with many of these reviews.  The product tastes good - not fantastic but good.  I don't like |     taste      |\n",
              "| 2117 | B00061EXBU | you won't BELIEVE how many ways this product has saved my life!  I only gave it one star because i'm |     price      |\n",
              "| 2890 | B000F9Z1WI | It's very nice that the company put 100 calories packages out--great marketing idea.  They taste oka |     taste      |\n",
              "| 3079 | B000FDKQCO | I like that this item has flax seed in it but the whole wheat flower makes it very grainy.  It is al |     taste      |\n",
              "| 3150 | B000FDKQCY | howdy y'all,<br /><br />this bread is pretty good. the potato flavor is there, recognizable as potat |     taste      |\n",
              "| 3415 | B005K4Q1VI | With <a href=\"http://www.amazon.com/gp/product/B00389Q4XW\">Green Mountain Hot Cocoa</a> being perpet |     taste      |\n",
              "| 3456 | B005K4Q1VI | this product taste stale and is full of artificial ingredients.<br />NO REAL PEPPERMINT IS IN THIS P |     taste      |\n",
              "| 3563 | B004G8ZAS4 | These arrived fresh and in a timely manner.  However, flavor-wise our family is in agreement that Je |     taste      |\n",
              "+------+------------+------------------------------------------------------------------------------------------------------+----------------+"
            ]
          },
          "execution_count": 14,
          "metadata": {},
          "output_type": "execute_result"
        }
      ],
      "source": [
        "%%sql\n",
        "-- AI_CLASSIFY: Classify customer feedback into categories\n",
        "-- Filter negative reviews first using CTE\n",
        "WITH negative_reviews AS (\n",
        "    SELECT\n",
        "        Id,\n",
        "        ProductId,\n",
        "        Text,\n",
        "        LEFT(Text, 100) as Review_Text\n",
        "    FROM temp.reviews\n",
        "    WHERE Score <= 3\n",
        "    LIMIT 10\n",
        ")\n",
        "SELECT\n",
        "    Id,\n",
        "    ProductId,\n",
        "    Review_Text,\n",
        "    cluster.AI_CLASSIFY(\n",
        "        Text,\n",
        "        '[quality, price, shipping, taste]'\n",
        "    ) AS classification\n",
        "FROM negative_reviews;"
      ]
    },
    {
      "cell_type": "code",
      "execution_count": 14,
      "id": "40f4cd14",
      "metadata": {},
      "outputs": [
        {
          "data": {
            "text/html": [
              "<span style=\"color: green\">10 rows affected.</span>"
            ],
            "text/plain": [
              "10 rows affected."
            ]
          },
          "metadata": {},
          "output_type": "display_data"
        },
        {
          "data": {
            "text/html": [
              "<table>\n",
              "    <thead>\n",
              "        <tr>\n",
              "            <th>Id</th>\n",
              "            <th>ProductId</th>\n",
              "            <th>Review_Text</th>\n",
              "            <th>repeat_purchase_intent</th>\n",
              "        </tr>\n",
              "    </thead>\n",
              "    <tbody>\n",
              "        <tr>\n",
              "            <td>121</td>\n",
              "            <td>B003SE19UK</td>\n",
              "            <td>I have done a lot of research to find the best food for my cat, and this is an excellent food.  That</td>\n",
              "            <td>yes</td>\n",
              "        </tr>\n",
              "        <tr>\n",
              "            <td>187</td>\n",
              "            <td>B000NY8ODS</td>\n",
              "            <td>This packet of glaze is the secret to making those European style fresh fruit tarts. I am about to m</td>\n",
              "            <td>yes</td>\n",
              "        </tr>\n",
              "        <tr>\n",
              "            <td>498</td>\n",
              "            <td>B000G6RYNE</td>\n",
              "            <td>Kettle Chips Spicy Thai potato chips have the perfect amount of sweet, savory and spicy-- everything</td>\n",
              "            <td>yes</td>\n",
              "        </tr>\n",
              "        <tr>\n",
              "            <td>516</td>\n",
              "            <td>B000G6RYNE</td>\n",
              "            <td>Despite coming in an extremely large box, I found this to be great value. All the bags were preserve</td>\n",
              "            <td>yes</td>\n",
              "        </tr>\n",
              "        <tr>\n",
              "            <td>686</td>\n",
              "            <td>B000G6MBX2</td>\n",
              "            <td>A nice case of chips that are quite tasty. I definitely enjoy the Kettle Sea Salt and Black Pepper. </td>\n",
              "            <td>yes<br>yes<br>yes<br>yes<br>yes<br>yes<br>yes<br>yes<br>yes<br>yes</td>\n",
              "        </tr>\n",
              "        <tr>\n",
              "            <td>690</td>\n",
              "            <td>B000G6MBX2</td>\n",
              "            <td>My aunt gave me a bag of these and I was immediately addicted. There are actual pieces of beans in t</td>\n",
              "            <td>yes<br>yes<br>yes<br>yes<br>yes<br>yes<br>yes<br>yes<br>yes<br>yes</td>\n",
              "        </tr>\n",
              "        <tr>\n",
              "            <td>795</td>\n",
              "            <td>B00285FF6O</td>\n",
              "            <td>The best chocolate in the world, in this critic's humble opinion, is made in the United States. And </td>\n",
              "            <td>yes</td>\n",
              "        </tr>\n",
              "        <tr>\n",
              "            <td>886</td>\n",
              "            <td>B000HDMUQ2</td>\n",
              "            <td>This brand of granola bars are really good.  The very berry are my favorite.  However, the bars are </td>\n",
              "            <td>unclear</td>\n",
              "        </tr>\n",
              "        <tr>\n",
              "            <td>949</td>\n",
              "            <td>B003KDCJYY</td>\n",
              "            <td>Pretty good product.  The taste isn't the best but it's definitely not the worse either.  It gives a</td>\n",
              "            <td>unclear</td>\n",
              "        </tr>\n",
              "        <tr>\n",
              "            <td>971</td>\n",
              "            <td>B0002XIB2Y</td>\n",
              "            <td>Nothing easier. Nothing better. Even beats grandmother's white gravy recipe. Already peppered for yo</td>\n",
              "            <td>yes<br>yes<br>yes<br>yes<br>yes<br>yes<br>yes<br>yes<br>yes<br>yes</td>\n",
              "        </tr>\n",
              "    </tbody>\n",
              "</table>"
            ],
            "text/plain": [
              "+-----+------------+------------------------------------------------------------------------------------------------------+------------------------+\n",
              "|  Id | ProductId  |                                             Review_Text                                              | repeat_purchase_intent |\n",
              "+-----+------------+------------------------------------------------------------------------------------------------------+------------------------+\n",
              "| 121 | B003SE19UK | I have done a lot of research to find the best food for my cat, and this is an excellent food.  That |          yes           |\n",
              "| 187 | B000NY8ODS | This packet of glaze is the secret to making those European style fresh fruit tarts. I am about to m |          yes           |\n",
              "| 498 | B000G6RYNE | Kettle Chips Spicy Thai potato chips have the perfect amount of sweet, savory and spicy-- everything |          yes           |\n",
              "| 516 | B000G6RYNE | Despite coming in an extremely large box, I found this to be great value. All the bags were preserve |          yes           |\n",
              "| 686 | B000G6MBX2 | A nice case of chips that are quite tasty. I definitely enjoy the Kettle Sea Salt and Black Pepper.  |          yes           |\n",
              "|     |            |                                                                                                      |          yes           |\n",
              "|     |            |                                                                                                      |          yes           |\n",
              "|     |            |                                                                                                      |          yes           |\n",
              "|     |            |                                                                                                      |          yes           |\n",
              "|     |            |                                                                                                      |          yes           |\n",
              "|     |            |                                                                                                      |          yes           |\n",
              "|     |            |                                                                                                      |          yes           |\n",
              "|     |            |                                                                                                      |          yes           |\n",
              "|     |            |                                                                                                      |          yes           |\n",
              "| 690 | B000G6MBX2 | My aunt gave me a bag of these and I was immediately addicted. There are actual pieces of beans in t |          yes           |\n",
              "|     |            |                                                                                                      |          yes           |\n",
              "|     |            |                                                                                                      |          yes           |\n",
              "|     |            |                                                                                                      |          yes           |\n",
              "|     |            |                                                                                                      |          yes           |\n",
              "|     |            |                                                                                                      |          yes           |\n",
              "|     |            |                                                                                                      |          yes           |\n",
              "|     |            |                                                                                                      |          yes           |\n",
              "|     |            |                                                                                                      |          yes           |\n",
              "|     |            |                                                                                                      |          yes           |\n",
              "| 795 | B00285FF6O | The best chocolate in the world, in this critic's humble opinion, is made in the United States. And  |          yes           |\n",
              "| 886 | B000HDMUQ2 | This brand of granola bars are really good.  The very berry are my favorite.  However, the bars are  |        unclear         |\n",
              "| 949 | B003KDCJYY | Pretty good product.  The taste isn't the best but it's definitely not the worse either.  It gives a |        unclear         |\n",
              "| 971 | B0002XIB2Y | Nothing easier. Nothing better. Even beats grandmother's white gravy recipe. Already peppered for yo |          yes           |\n",
              "|     |            |                                                                                                      |          yes           |\n",
              "|     |            |                                                                                                      |          yes           |\n",
              "|     |            |                                                                                                      |          yes           |\n",
              "|     |            |                                                                                                      |          yes           |\n",
              "|     |            |                                                                                                      |          yes           |\n",
              "|     |            |                                                                                                      |          yes           |\n",
              "|     |            |                                                                                                      |          yes           |\n",
              "|     |            |                                                                                                      |          yes           |\n",
              "|     |            |                                                                                                      |          yes           |\n",
              "+-----+------------+------------------------------------------------------------------------------------------------------+------------------------+"
            ]
          },
          "execution_count": 15,
          "metadata": {},
          "output_type": "execute_result"
        }
      ],
      "source": [
        "%%sql\n",
        "-- AI_EXTRACT: Extract specific information from reviews\n",
        "-- Filter positive reviews first using CTE\n",
        "WITH positive_reviews AS (\n",
        "    SELECT\n",
        "        Id,\n",
        "        ProductId,\n",
        "        Text,\n",
        "        LEFT(Text, 100) as Review_Text\n",
        "    FROM temp.reviews\n",
        "    WHERE Score >= 4\n",
        "    LIMIT 10\n",
        ")\n",
        "SELECT\n",
        "    Id,\n",
        "    ProductId,\n",
        "    Review_Text,\n",
        "    cluster.AI_EXTRACT(\n",
        "        Text,\n",
        "        'Does this customer indicate they will buy this product again? Answer with yes, no, or unclear only'\n",
        "    ) AS repeat_purchase_intent\n",
        "FROM positive_reviews;"
      ]
    },
    {
      "cell_type": "code",
      "execution_count": 15,
      "id": "a09f2d5b",
      "metadata": {},
      "outputs": [
        {
          "data": {
            "text/html": [
              "<span style=\"color: green\">10 rows affected.</span>"
            ],
            "text/plain": [
              "10 rows affected."
            ]
          },
          "metadata": {},
          "output_type": "display_data"
        },
        {
          "data": {
            "text/html": [
              "<table>\n",
              "    <thead>\n",
              "        <tr>\n",
              "            <th>Id</th>\n",
              "            <th>ProductId</th>\n",
              "            <th>Score</th>\n",
              "            <th>Review_Text</th>\n",
              "            <th>churn_risk</th>\n",
              "        </tr>\n",
              "    </thead>\n",
              "    <tbody>\n",
              "        <tr>\n",
              "            <td>1445</td>\n",
              "            <td>B001E50UEQ</td>\n",
              "            <td>1</td>\n",
              "            <td>Me and my wife have tried a wide range of the Hormel compleats, and this is by far the worst tasting one of the bunch. I</td>\n",
              "            <td>high</td>\n",
              "        </tr>\n",
              "        <tr>\n",
              "            <td>1540</td>\n",
              "            <td>B000E7WM0K</td>\n",
              "            <td>2</td>\n",
              "            <td>We enjoy A Taste of Tai's Peanut Noodles... they rock.  That peanutty flavor...mmm... so we decided to try these... um, </td>\n",
              "            <td>medium</td>\n",
              "        </tr>\n",
              "        <tr>\n",
              "            <td>2117</td>\n",
              "            <td>B00061EXBU</td>\n",
              "            <td>1</td>\n",
              "            <td>you won't BELIEVE how many ways this product has saved my life!  I only gave it one star because i'm so dehydrated from </td>\n",
              "            <td>medium</td>\n",
              "        </tr>\n",
              "        <tr>\n",
              "            <td>3415</td>\n",
              "            <td>B005K4Q1VI</td>\n",
              "            <td>2</td>\n",
              "            <td>With <a href=\"http://www.amazon.com/gp/product/B00389Q4XW\">Green Mountain Hot Cocoa</a> being perpetually out of stock i</td>\n",
              "            <td>high</td>\n",
              "        </tr>\n",
              "        <tr>\n",
              "            <td>3456</td>\n",
              "            <td>B005K4Q1VI</td>\n",
              "            <td>1</td>\n",
              "            <td>this product taste stale and is full of artificial ingredients.<br />NO REAL PEPPERMINT IS IN THIS PRODUCT and to be hon</td>\n",
              "            <td>high</td>\n",
              "        </tr>\n",
              "        <tr>\n",
              "            <td>5103</td>\n",
              "            <td>B004157PZI</td>\n",
              "            <td>2</td>\n",
              "            <td>These are very tasty, but way too sweet & sugary.  I felt like I was eating candy instead of meat.  If that's okay with </td>\n",
              "            <td>high</td>\n",
              "        </tr>\n",
              "        <tr>\n",
              "            <td>5405</td>\n",
              "            <td>B00622CYVS</td>\n",
              "            <td>2</td>\n",
              "            <td>Amazon normally does a fantastic job getting product out to me in great shape and on-time, but, I guess this is one prod</td>\n",
              "            <td>medium</td>\n",
              "        </tr>\n",
              "        <tr>\n",
              "            <td>6359</td>\n",
              "            <td>B001AW9PTO</td>\n",
              "            <td>2</td>\n",
              "            <td>too salty -- enough said. I order the wood smoked 30-count jar. Remember, the price is for only ONE JAR (not two).</td>\n",
              "            <td>high</td>\n",
              "        </tr>\n",
              "        <tr>\n",
              "            <td>6364</td>\n",
              "            <td>B001AW9PTO</td>\n",
              "            <td>1</td>\n",
              "            <td>Wow. The hickory smoked jerkey sticks were incredibly salty. I could not even eat half of the stick. I have had 3 differ</td>\n",
              "            <td>high</td>\n",
              "        </tr>\n",
              "        <tr>\n",
              "            <td>74</td>\n",
              "            <td>B0059WXJKM</td>\n",
              "            <td>1</td>\n",
              "            <td>Buyer Beware Please! This sweetener is not for everybody.  Maltitol is an alcohol sugar and can be undigestible in the b</td>\n",
              "            <td>high</td>\n",
              "        </tr>\n",
              "    </tbody>\n",
              "</table>"
            ],
            "text/plain": [
              "+------+------------+-------+--------------------------------------------------------------------------------------------------------------------------+------------+\n",
              "|  Id  | ProductId  | Score |                                                       Review_Text                                                        | churn_risk |\n",
              "+------+------------+-------+--------------------------------------------------------------------------------------------------------------------------+------------+\n",
              "| 1445 | B001E50UEQ |   1   | Me and my wife have tried a wide range of the Hormel compleats, and this is by far the worst tasting one of the bunch. I |    high    |\n",
              "| 1540 | B000E7WM0K |   2   | We enjoy A Taste of Tai's Peanut Noodles... they rock.  That peanutty flavor...mmm... so we decided to try these... um,  |   medium   |\n",
              "| 2117 | B00061EXBU |   1   | you won't BELIEVE how many ways this product has saved my life!  I only gave it one star because i'm so dehydrated from  |   medium   |\n",
              "| 3415 | B005K4Q1VI |   2   | With <a href=\"http://www.amazon.com/gp/product/B00389Q4XW\">Green Mountain Hot Cocoa</a> being perpetually out of stock i |    high    |\n",
              "| 3456 | B005K4Q1VI |   1   | this product taste stale and is full of artificial ingredients.<br />NO REAL PEPPERMINT IS IN THIS PRODUCT and to be hon |    high    |\n",
              "| 5103 | B004157PZI |   2   | These are very tasty, but way too sweet & sugary.  I felt like I was eating candy instead of meat.  If that's okay with  |    high    |\n",
              "| 5405 | B00622CYVS |   2   | Amazon normally does a fantastic job getting product out to me in great shape and on-time, but, I guess this is one prod |   medium   |\n",
              "| 6359 | B001AW9PTO |   2   |    too salty -- enough said. I order the wood smoked 30-count jar. Remember, the price is for only ONE JAR (not two).    |    high    |\n",
              "| 6364 | B001AW9PTO |   1   | Wow. The hickory smoked jerkey sticks were incredibly salty. I could not even eat half of the stick. I have had 3 differ |    high    |\n",
              "|  74  | B0059WXJKM |   1   | Buyer Beware Please! This sweetener is not for everybody.  Maltitol is an alcohol sugar and can be undigestible in the b |    high    |\n",
              "+------+------------+-------+--------------------------------------------------------------------------------------------------------------------------+------------+"
            ]
          },
          "execution_count": 16,
          "metadata": {},
          "output_type": "execute_result"
        }
      ],
      "source": [
        "%%sql\n",
        "-- AI_EXTRACT: Identify reviews with high churn risk\n",
        "-- Filter low-rated reviews first using CTE\n",
        "WITH low_rated_reviews AS (\n",
        "    SELECT\n",
        "        Id,\n",
        "        ProductId,\n",
        "        Score,\n",
        "        Text,\n",
        "        LEFT(Text, 120) as Review_Text\n",
        "    FROM temp.reviews\n",
        "    WHERE Score <= 2\n",
        "    LIMIT 10\n",
        ")\n",
        "SELECT\n",
        "    Id,\n",
        "    ProductId,\n",
        "    Score,\n",
        "    Review_Text,\n",
        "    cluster.AI_EXTRACT(\n",
        "        Text,\n",
        "        'Is this customer at high risk of not purchasing again? Answer with high, medium, or low only'\n",
        "    ) AS churn_risk\n",
        "FROM low_rated_reviews;"
      ]
    },
    {
      "cell_type": "code",
      "execution_count": 16,
      "id": "3d78f449",
      "metadata": {},
      "outputs": [
        {
          "data": {
            "text/html": [
              "<span style=\"color: green\">5 rows affected.</span>"
            ],
            "text/plain": [
              "5 rows affected."
            ]
          },
          "metadata": {},
          "output_type": "display_data"
        },
        {
          "data": {
            "text/html": [
              "<table>\n",
              "    <thead>\n",
              "        <tr>\n",
              "            <th>Id</th>\n",
              "            <th>Original_English</th>\n",
              "            <th>spanish_translation</th>\n",
              "        </tr>\n",
              "    </thead>\n",
              "    <tbody>\n",
              "        <tr>\n",
              "            <td>26</td>\n",
              "            <td>Twizzlers - Strawberry</td>\n",
              "            <td>Twizzlers - Fresa</td>\n",
              "        </tr>\n",
              "        <tr>\n",
              "            <td>746</td>\n",
              "            <td>Anti-Oxidant Smoothie</td>\n",
              "            <td>Batido antioxidante</td>\n",
              "        </tr>\n",
              "        <tr>\n",
              "            <td>986</td>\n",
              "            <td>Moore's Marinade, Gluten, low sodium and MSG Free!</td>\n",
              "            <td>Marinada de Moore, \u00a1sin gluten, baja en sodio y sin glutamato monos\u00f3dico!</td>\n",
              "        </tr>\n",
              "        <tr>\n",
              "            <td>1325</td>\n",
              "            <td>Equidorian OJio Arriba Carillo \"RAW Oranic\" Cacao</td>\n",
              "            <td>Equidoriano OJio Arriba Carillo \"RAW Org\u00e1nico\" Cacao</td>\n",
              "        </tr>\n",
              "        <tr>\n",
              "            <td>1909</td>\n",
              "            <td>Too good to continue for long.</td>\n",
              "            <td>Demasiado bueno para continuar por mucho tiempo.</td>\n",
              "        </tr>\n",
              "    </tbody>\n",
              "</table>"
            ],
            "text/plain": [
              "+------+----------------------------------------------------+---------------------------------------------------------------------------+\n",
              "|  Id  |                  Original_English                  |                            spanish_translation                            |\n",
              "+------+----------------------------------------------------+---------------------------------------------------------------------------+\n",
              "|  26  |               Twizzlers - Strawberry               |                             Twizzlers - Fresa                             |\n",
              "| 746  |               Anti-Oxidant Smoothie                |                            Batido antioxidante                            |\n",
              "| 986  | Moore's Marinade, Gluten, low sodium and MSG Free! | Marinada de Moore, \u00a1sin gluten, baja en sodio y sin glutamato monos\u00f3dico! |\n",
              "| 1325 | Equidorian OJio Arriba Carillo \"RAW Oranic\" Cacao  |            Equidoriano OJio Arriba Carillo \"RAW Org\u00e1nico\" Cacao           |\n",
              "| 1909 |           Too good to continue for long.           |              Demasiado bueno para continuar por mucho tiempo.             |\n",
              "+------+----------------------------------------------------+---------------------------------------------------------------------------+"
            ]
          },
          "execution_count": 17,
          "metadata": {},
          "output_type": "execute_result"
        }
      ],
      "source": [
        "%%sql\n",
        "-- AI_TRANSLATE: Translate text between languages\n",
        "-- Filter reviews with substantial summaries first using CTE\n",
        "WITH translatable_reviews AS (\n",
        "    SELECT\n",
        "        Id,\n",
        "        Summary as Original_English\n",
        "    FROM temp.reviews\n",
        "    WHERE Score = 5\n",
        "    AND Summary IS NOT NULL\n",
        "    AND LENGTH(Summary) > 20\n",
        "    LIMIT 5\n",
        ")\n",
        "SELECT\n",
        "    Id,\n",
        "    Original_English,\n",
        "    cluster.AI_TRANSLATE(\n",
        "        Original_English,\n",
        "        'english',\n",
        "        'spanish'\n",
        "    ) AS spanish_translation\n",
        "FROM translatable_reviews;"
      ]
    },
    {
      "cell_type": "code",
      "execution_count": 17,
      "id": "082dc59a",
      "metadata": {},
      "outputs": [
        {
          "data": {
            "text/html": [
              "<span style=\"color: green\">10 rows affected.</span>"
            ],
            "text/plain": [
              "10 rows affected."
            ]
          },
          "metadata": {},
          "output_type": "display_data"
        },
        {
          "data": {
            "text/html": [
              "<table>\n",
              "    <thead>\n",
              "        <tr>\n",
              "            <th>ProductId</th>\n",
              "            <th>Score</th>\n",
              "            <th>Review_Sample</th>\n",
              "            <th>sentiment</th>\n",
              "            <th>category</th>\n",
              "            <th>brief_summary</th>\n",
              "        </tr>\n",
              "    </thead>\n",
              "    <tbody>\n",
              "        <tr>\n",
              "            <td>B004391DK0</td>\n",
              "            <td>5</td>\n",
              "            <td>As far as gluten free products this is awesome.  I use it as a substitute for an</td>\n",
              "            <td>{\"score\": 0.8, \"sentiment\": \"positive\"}</td>\n",
              "            <td>taste</td>\n",
              "            <td>Gluten-free flour substitute works well, especially for pumpkin waffles.</td>\n",
              "        </tr>\n",
              "        <tr>\n",
              "            <td>B004391DK0</td>\n",
              "            <td>3</td>\n",
              "            <td>I was disappointed when I tried this pancake mix. Before going gluten free, Bisq</td>\n",
              "            <td>{\"sentiment\": \"negative\", \"score\": -0.6}</td>\n",
              "            <td>taste</td>\n",
              "            <td>Disappointed with gluten-free pancake mix; preferred Pamela brand.</td>\n",
              "        </tr>\n",
              "        <tr>\n",
              "            <td>B004391DK0</td>\n",
              "            <td>1</td>\n",
              "            <td>Thought I had died and gone to heaven when I made the bisquit recipe.  I was wro</td>\n",
              "            <td>{ \"score\": -0.6, \"sentiment\": \"negative\" }</td>\n",
              "            <td>taste</td>\n",
              "            <td>Loved mix, but caused severe indigestion with gluten.</td>\n",
              "        </tr>\n",
              "        <tr>\n",
              "            <td>B0019GVYR2</td>\n",
              "            <td>1</td>\n",
              "            <td>I just called Bob's Red Mill customer service (just do a G search for the compan</td>\n",
              "            <td>{ \"score\": -0.6, \"sentiment\": \"negative\" }</td>\n",
              "            <td>value</td>\n",
              "            <td>Bob's Red Mill baking soda is all aluminum-free, identical.</td>\n",
              "        </tr>\n",
              "        <tr>\n",
              "            <td>B004391DK0</td>\n",
              "            <td>5</td>\n",
              "            <td>I really love this mix as the pancakes are so soft and fluffy. Could not tell th</td>\n",
              "            <td>{\"score\": 0.85, \"sentiment\": \"positive\"}</td>\n",
              "            <td>taste</td>\n",
              "            <td>Gluten-free pancakes and muffins were soft, fluffy, and delicious.</td>\n",
              "        </tr>\n",
              "        <tr>\n",
              "            <td>B004391DK0</td>\n",
              "            <td>5</td>\n",
              "            <td>Can as be used to make cookies - even egg free!  I just used the mix, enough app</td>\n",
              "            <td>{\"score\": 0.5, \"sentiment\": \"positive\"}</td>\n",
              "            <td>taste</td>\n",
              "            <td>Egg-free cookies made with apple sauce; Walmart offers cheaper mix.</td>\n",
              "        </tr>\n",
              "        <tr>\n",
              "            <td>B004391DK0</td>\n",
              "            <td>5</td>\n",
              "            <td>I find it really hard to believe this is GF because it tastes better than any GF</td>\n",
              "            <td>{ \"score\": 0.8, \"sentiment\": \"positive\" }</td>\n",
              "            <td>taste</td>\n",
              "            <td>Waffles taste amazingly good; doubts about gluten-free authenticity.</td>\n",
              "        </tr>\n",
              "        <tr>\n",
              "            <td>B004391DK0</td>\n",
              "            <td>3</td>\n",
              "            <td>I love this mix. My favorite of any I've tried. The only reason I starred it at </td>\n",
              "            <td>{\"score\": 0.6, \"sentiment\": \"positive\"}</td>\n",
              "            <td>value</td>\n",
              "            <td>Loved mix, but found better price elsewhere; value varies.</td>\n",
              "        </tr>\n",
              "        <tr>\n",
              "            <td>B004391DK0</td>\n",
              "            <td>3</td>\n",
              "            <td>Alittle bit expensive for the product I think that it should be the same price a</td>\n",
              "            <td>{<br>  \"score\": 0.1,<br>  \"sentiment\": \"neutral\"<br>}</td>\n",
              "            <td>value</td>\n",
              "            <td>Product good but slightly overpriced compared to non-gluten Bisquick.</td>\n",
              "        </tr>\n",
              "        <tr>\n",
              "            <td>B004391DK0</td>\n",
              "            <td>1</td>\n",
              "            <td>I regularly purchase this item in the bulk and loved it because it was also dair</td>\n",
              "            <td>{<br>  \"sentiment\": \"negative\",<br>  \"score\": -0.8<br>}</td>\n",
              "            <td>quality</td>\n",
              "            <td>Found dead bugs in product; will not repurchase.</td>\n",
              "        </tr>\n",
              "    </tbody>\n",
              "</table>"
            ],
            "text/plain": [
              "+------------+-------+----------------------------------------------------------------------------------+--------------------------------------------+----------+--------------------------------------------------------------------------+\n",
              "| ProductId  | Score |                                  Review_Sample                                   |                 sentiment                  | category |                              brief_summary                               |\n",
              "+------------+-------+----------------------------------------------------------------------------------+--------------------------------------------+----------+--------------------------------------------------------------------------+\n",
              "| B004391DK0 |   5   | As far as gluten free products this is awesome.  I use it as a substitute for an |  {\"score\": 0.8, \"sentiment\": \"positive\"}   |  taste   | Gluten-free flour substitute works well, especially for pumpkin waffles. |\n",
              "| B004391DK0 |   3   | I was disappointed when I tried this pancake mix. Before going gluten free, Bisq |  {\"sentiment\": \"negative\", \"score\": -0.6}  |  taste   |    Disappointed with gluten-free pancake mix; preferred Pamela brand.    |\n",
              "| B004391DK0 |   1   | Thought I had died and gone to heaven when I made the bisquit recipe.  I was wro | { \"score\": -0.6, \"sentiment\": \"negative\" } |  taste   |          Loved mix, but caused severe indigestion with gluten.           |\n",
              "| B0019GVYR2 |   1   | I just called Bob's Red Mill customer service (just do a G search for the compan | { \"score\": -0.6, \"sentiment\": \"negative\" } |  value   |       Bob's Red Mill baking soda is all aluminum-free, identical.        |\n",
              "| B004391DK0 |   5   | I really love this mix as the pancakes are so soft and fluffy. Could not tell th |  {\"score\": 0.85, \"sentiment\": \"positive\"}  |  taste   |    Gluten-free pancakes and muffins were soft, fluffy, and delicious.    |\n",
              "| B004391DK0 |   5   | Can as be used to make cookies - even egg free!  I just used the mix, enough app |  {\"score\": 0.5, \"sentiment\": \"positive\"}   |  taste   |   Egg-free cookies made with apple sauce; Walmart offers cheaper mix.    |\n",
              "| B004391DK0 |   5   | I find it really hard to believe this is GF because it tastes better than any GF | { \"score\": 0.8, \"sentiment\": \"positive\" }  |  taste   |   Waffles taste amazingly good; doubts about gluten-free authenticity.   |\n",
              "| B004391DK0 |   3   | I love this mix. My favorite of any I've tried. The only reason I starred it at  |  {\"score\": 0.6, \"sentiment\": \"positive\"}   |  value   |        Loved mix, but found better price elsewhere; value varies.        |\n",
              "| B004391DK0 |   3   | Alittle bit expensive for the product I think that it should be the same price a |                     {                      |  value   |  Product good but slightly overpriced compared to non-gluten Bisquick.   |\n",
              "|            |       |                                                                                  |                \"score\": 0.1,               |          |                                                                          |\n",
              "|            |       |                                                                                  |            \"sentiment\": \"neutral\"          |          |                                                                          |\n",
              "|            |       |                                                                                  |                     }                      |          |                                                                          |\n",
              "| B004391DK0 |   1   | I regularly purchase this item in the bulk and loved it because it was also dair |                     {                      | quality  |             Found dead bugs in product; will not repurchase.             |\n",
              "|            |       |                                                                                  |           \"sentiment\": \"negative\",         |          |                                                                          |\n",
              "|            |       |                                                                                  |                \"score\": -0.8               |          |                                                                          |\n",
              "|            |       |                                                                                  |                     }                      |          |                                                                          |\n",
              "+------------+-------+----------------------------------------------------------------------------------+--------------------------------------------+----------+--------------------------------------------------------------------------+"
            ]
          },
          "execution_count": 18,
          "metadata": {},
          "output_type": "execute_result"
        }
      ],
      "source": [
        "%%sql\n",
        "-- Combined AI Functions: Comprehensive product analysis\n",
        "-- Filter to products with multiple reviews first\n",
        "WITH popular_products AS (\n",
        "    SELECT ProductId\n",
        "    FROM temp.reviews\n",
        "    GROUP BY ProductId\n",
        "    HAVING COUNT(*) >= 10\n",
        "    LIMIT 5\n",
        "),\n",
        "product_reviews AS (\n",
        "    SELECT\n",
        "        r.ProductId,\n",
        "        r.Text,\n",
        "        r.Score,\n",
        "        LEFT(r.Text, 80) as Review_Sample\n",
        "    FROM temp.reviews r\n",
        "    INNER JOIN popular_products p ON r.ProductId = p.ProductId\n",
        "    LIMIT 10\n",
        ")\n",
        "SELECT\n",
        "    ProductId,\n",
        "    Score,\n",
        "    Review_Sample,\n",
        "    cluster.AI_SENTIMENT(Text) as sentiment,\n",
        "    cluster.AI_CLASSIFY(Text, '[quality, value, taste, packaging]') as category,\n",
        "    cluster.AI_SUMMARIZE(Text, 'aifunctions_chat_default', 10) as brief_summary\n",
        "FROM product_reviews;"
      ]
    },
    {
      "cell_type": "markdown",
      "id": "3573f922",
      "metadata": {},
      "source": [
        "## Cleanup"
      ]
    },
    {
      "cell_type": "code",
      "execution_count": 18,
      "id": "3927eb85",
      "metadata": {},
      "outputs": [],
      "source": [
        "%%sql\n",
        "DROP TABLE IF EXISTS reviews;\n",
        "DROP DATABASE IF EXISTS temp;"
      ]
    },
    {
      "id": "70af1a6f",
      "cell_type": "markdown",
      "metadata": {},
      "source": [
        "<div id=\"singlestore-footer\" style=\"background-color: rgba(194, 193, 199, 0.25); height:2px; margin-bottom:10px\"></div>\n",
        "<div><img src=\"https://raw.githubusercontent.com/singlestore-labs/spaces-notebooks/master/common/images/singlestore-logo-grey.png\" style=\"padding: 0px; margin: 0px; height: 24px\"/></div>"
      ]
    }
  ],
  "metadata": {
    "jupyterlab": {
      "notebooks": {
        "version_major": 6,
        "version_minor": 4
      }
    },
    "kernelspec": {
      "display_name": "Python 3 (ipykernel)",
      "language": "python",
      "name": "python3"
    },
    "language_info": {
      "codemirror_mode": {
        "name": "ipython",
        "version": 3
      },
      "file_extension": ".py",
      "mimeType": "text/x-python",
      "name": "python",
      "nbconvert_exporter": "python",
      "pygments_lexer": "ipython3",
      "version": "3.11.9"
    }
  },
  "nbformat": 4,
  "nbformat_minor": 5
}
