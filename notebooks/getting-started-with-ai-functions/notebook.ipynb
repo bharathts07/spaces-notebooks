{
  "cells": [
    {
      "id": "c2656b68",
      "cell_type": "markdown",
      "metadata": {},
      "source": [
        "<div id=\"singlestore-header\" style=\"display: flex; background-color: rgba(235, 249, 245, 0.25); padding: 5px;\">\n",
        "    <div id=\"icon-image\" style=\"width: 90px; height: 90px;\">\n",
        "        <img width=\"100%\" height=\"100%\" src=\"https://raw.githubusercontent.com/singlestore-labs/spaces-notebooks/master/common/images/header-icons/browser.png\" />\n",
        "    </div>\n",
        "    <div id=\"text\" style=\"padding: 5px; margin-left: 10px;\">\n",
        "        <div id=\"badge\" style=\"display: inline-block; background-color: rgba(0, 0, 0, 0.15); border-radius: 4px; padding: 4px 8px; align-items: center; margin-top: 6px; margin-bottom: -2px; font-size: 80%\">SingleStore Notebooks</div>\n",
        "        <h1 style=\"font-weight: 500; margin: 8px 0 0 4px;\">Demonstrate some common AI function usecases</h1>\n",
        "    </div>\n",
        "</div>"
      ]
    },
    {
      "attachments": {},
      "cell_type": "markdown",
      "id": "5831c1ac",
      "metadata": {},
      "source": [
        "<div class=\"alert alert-block alert-warning\">\n",
        "    <b class=\"fa fa-solid fa-exclamation-circle\"></b>\n",
        "    <div>\n",
        "        <p><b>Note</b></p>\n",
        "        <p>You can use your existing Standard or Premium workspace with this Notebook.</p>\n",
        "    </div>\n",
        "</div>\n",
        "\n",
        "\n",
        "This feature is currently in **Private Preview**. Please reach out to support@singlestore.com to confirm if this feature can be enabled in your org.\n",
        "\n",
        "This Jupyter notebook will help you:\n",
        "1. Load the Amazon Fine Foods Reviews dataset from Kaggle\n",
        "2. Store the data in SingleStore\n",
        "3. Demonstrate powerful AI Functions for text processing and analysis\n",
        "\n",
        "**Prerequisites**: Ensure AI Functions are installed on your deployment (AI Services > AI & ML Functions)."
      ]
    },
    {
      "attachments": {},
      "cell_type": "markdown",
      "id": "ea429156",
      "metadata": {},
      "source": [
        "## Create some simple tables\n",
        "\n",
        "This setup establishes a basic relational structure to store some reviews for restaurants. Ensure you have selected a database and have CREATE permissions to create/delete tables."
      ]
    },
    {
      "cell_type": "code",
      "execution_count": 1,
      "id": "f3b10b76",
      "metadata": {},
      "outputs": [],
      "source": [
        "%%sql\n",
        "CREATE DATABASE IF NOT EXISTS temp;\n",
        "USE temp;"
      ]
    },
    {
      "cell_type": "code",
      "execution_count": 2,
      "id": "1f8ccd75",
      "metadata": {},
      "outputs": [],
      "source": [
        "%%sql\n",
        "DROP TABLE IF EXISTS reviews;\n",
        "\n",
        "CREATE TABLE IF NOT EXISTS reviews (\n",
        "    Id INT PRIMARY KEY,\n",
        "    ProductId VARCHAR(20),\n",
        "    UserId VARCHAR(50),\n",
        "    ProfileName VARCHAR(255),\n",
        "    HelpfulnessNumerator INT,\n",
        "    HelpfulnessDenominator INT,\n",
        "    Score INT,\n",
        "    Time BIGINT,\n",
        "    Summary TEXT,\n",
        "    Text TEXT\n",
        ");"
      ]
    },
    {
      "attachments": {},
      "cell_type": "markdown",
      "id": "6a2118dd",
      "metadata": {},
      "source": [
        "## Install the required packages"
      ]
    },
    {
      "cell_type": "code",
      "execution_count": 3,
      "id": "40350277",
      "metadata": {},
      "outputs": [],
      "source": [
        "!pip install -q httplib2 kagglehub pandas"
      ]
    },
    {
      "attachments": {},
      "cell_type": "markdown",
      "id": "97437a79",
      "metadata": {},
      "source": [
        "## Download and Load Dataset"
      ]
    },
    {
      "cell_type": "code",
      "execution_count": 4,
      "id": "cf62cc7e",
      "metadata": {},
      "outputs": [],
      "source": [
        "import kagglehub\n",
        "import pandas as pd\n",
        "\n",
        "# Download the Amazon Fine Foods Reviews dataset from Kaggle\n",
        "print(\"Downloading dataset from Kaggle...\")\n",
        "path = kagglehub.dataset_download(\"snap/amazon-fine-food-reviews\")\n",
        "print(f\"Dataset downloaded to: {path}\")\n",
        "\n",
        "# Read the CSV file\n",
        "df = pd.read_csv(f\"{path}/Reviews.csv\")\n",
        "\n",
        "# Display dataset info\n",
        "print(f\"\\nDataset shape: {df.shape}\")\n",
        "print(f\"Columns: {list(df.columns)}\")\n",
        "print(\"\\nFirst few rows:\")\n",
        "df.head()"
      ]
    },
    {
      "attachments": {},
      "cell_type": "markdown",
      "id": "0c938c99",
      "metadata": {},
      "source": [
        "## Load Data into SingleStore"
      ]
    },
    {
      "cell_type": "code",
      "execution_count": 5,
      "id": "4d427d08",
      "metadata": {},
      "outputs": [],
      "source": [
        "import singlestoredb as s2\n",
        "\n",
        "# Create SQLAlchemy engine instead of regular connection\n",
        "engine = s2.create_engine(database='temp')\n",
        "\n",
        "# Take a sample of 10,000 reviews for demo purposes\n",
        "sample_df = df.head(10000).copy()\n",
        "\n",
        "print(f\"Loading {len(sample_df)} reviews into SingleStore...\")\n",
        "\n",
        "# Write dataframe to SingleStore table using SQLAlchemy engine\n",
        "sample_df.to_sql(\n",
        "    'reviews',\n",
        "    con=engine,  # Use engine instead of connection\n",
        "    if_exists='append',\n",
        "    index=False,\n",
        "    chunksize=1000\n",
        ")\n",
        "\n",
        "print(\"Data loaded successfully!\")"
      ]
    },
    {
      "attachments": {},
      "cell_type": "markdown",
      "id": "ee21f51b",
      "metadata": {},
      "source": [
        " ## Verify Data Load"
      ]
    },
    {
      "cell_type": "code",
      "execution_count": 6,
      "id": "8423c269",
      "metadata": {},
      "outputs": [],
      "source": [
        "%%sql\n",
        "-- Check the number of reviews loaded\n",
        "SELECT COUNT(*) as total_reviews FROM reviews;"
      ]
    },
    {
      "attachments": {},
      "cell_type": "markdown",
      "id": "d6c8e487",
      "metadata": {},
      "source": [
        "## Sample Data Preview"
      ]
    },
    {
      "cell_type": "code",
      "execution_count": 7,
      "id": "ccefec53",
      "metadata": {},
      "outputs": [],
      "source": [
        "%%sql\n",
        "-- View sample reviews\n",
        "SELECT Id, ProductId, Score, Summary, LEFT(Text, 100) as Review_Preview\n",
        "FROM reviews\n",
        "LIMIT 10;"
      ]
    },
    {
      "attachments": {},
      "cell_type": "markdown",
      "id": "0bb3deb8",
      "metadata": {},
      "source": [
        "## AI Functions Demonstrations\n",
        "\n",
        "Now let's explore the power of SingleStore AI Functions for text analysis and processing.\n",
        "Ensure that AI functions are enabled for the org and you are able to list the available AI functions"
      ]
    },
    {
      "cell_type": "code",
      "execution_count": 8,
      "id": "bd293861",
      "metadata": {},
      "outputs": [],
      "source": [
        "%%sql\n",
        "SHOW functions in cluster;"
      ]
    },
    {
      "cell_type": "code",
      "execution_count": 9,
      "id": "05d5d27a",
      "metadata": {},
      "outputs": [],
      "source": [
        "%%sql\n",
        "-- AI_COMPLETE: Ask general questions and get LLM-powered completions\n",
        "SELECT cluster.AI_COMPLETE(\n",
        "    'What is SingleStore?'\n",
        ") AS completion;"
      ]
    },
    {
      "cell_type": "code",
      "execution_count": 10,
      "id": "9f842a0d",
      "metadata": {},
      "outputs": [],
      "source": [
        "%%sql\n",
        "-- AI_SENTIMENT: Analyze sentiment of customer reviews for a specific product\n",
        "-- WHERE ProductId = <Your choice>\n",
        "-- Remember to specify the datbase name. In this example 'temp' is the Database name\n",
        "SELECT\n",
        "    Id,\n",
        "    ProductId,\n",
        "    Score,\n",
        "    LEFT(Text, 80) as Review_Snippet,\n",
        "    cluster.AI_SENTIMENT(Text) AS sentiment\n",
        "FROM temp.reviews\n",
        "WHERE ProductId = 'B000NY8ODS'\n",
        "LIMIT 10;"
      ]
    },
    {
      "cell_type": "code",
      "execution_count": 11,
      "id": "56ff7a17",
      "metadata": {},
      "outputs": [],
      "source": [
        "%%sql\n",
        "-- Aggregate sentiment analysis across products\n",
        "-- Using CTE to filter and prepare data first\n",
        "WITH filtered_reviews AS (\n",
        "    SELECT\n",
        "        ProductId,\n",
        "        Text\n",
        "    FROM temp.reviews\n",
        "    WHERE ProductId IN (\n",
        "        SELECT ProductId\n",
        "        FROM temp.reviews\n",
        "        GROUP BY ProductId\n",
        "        HAVING COUNT(*) >= 5\n",
        "    )\n",
        "    LIMIT 100\n",
        "),\n",
        "grouped_reviews AS (\n",
        "    SELECT\n",
        "        ProductId,\n",
        "        COUNT(*) as review_count,\n",
        "        GROUP_CONCAT(Text SEPARATOR '. ') as combined_text\n",
        "    FROM filtered_reviews\n",
        "    GROUP BY ProductId\n",
        "    LIMIT 5\n",
        ")\n",
        "SELECT\n",
        "    ProductId,\n",
        "    review_count,\n",
        "    cluster.AI_SENTIMENT(combined_text) as overall_sentiment\n",
        "FROM grouped_reviews;"
      ]
    },
    {
      "cell_type": "code",
      "execution_count": 12,
      "id": "b9786b66",
      "metadata": {},
      "outputs": [],
      "source": [
        "%%sql\n",
        "-- AI_SUMMARIZE: Create concise summaries of lengthy reviews\n",
        "-- Filter long reviews first using CTE\n",
        "WITH long_reviews AS (\n",
        "    SELECT\n",
        "        Id,\n",
        "        ProductId,\n",
        "        Text,\n",
        "        LEFT(Text, 150) as Original_Review\n",
        "    FROM temp.reviews\n",
        "    WHERE LENGTH(Text) > 200\n",
        "    LIMIT 5\n",
        ")\n",
        "SELECT\n",
        "    Id,\n",
        "    ProductId,\n",
        "    Original_Review,\n",
        "    cluster.AI_SUMMARIZE(\n",
        "        Text,\n",
        "        'aifunctions_chat_default',\n",
        "        15\n",
        "    ) AS summary\n",
        "FROM long_reviews;"
      ]
    },
    {
      "cell_type": "code",
      "execution_count": 13,
      "id": "4febc8e0",
      "metadata": {},
      "outputs": [],
      "source": [
        "%%sql\n",
        "-- AI_CLASSIFY: Classify customer feedback into categories\n",
        "-- Filter negative reviews first using CTE\n",
        "WITH negative_reviews AS (\n",
        "    SELECT\n",
        "        Id,\n",
        "        ProductId,\n",
        "        Text,\n",
        "        LEFT(Text, 100) as Review_Text\n",
        "    FROM temp.reviews\n",
        "    WHERE Score <= 3\n",
        "    LIMIT 10\n",
        ")\n",
        "SELECT\n",
        "    Id,\n",
        "    ProductId,\n",
        "    Review_Text,\n",
        "    cluster.AI_CLASSIFY(\n",
        "        Text,\n",
        "        '[quality, price, shipping, taste]'\n",
        "    ) AS classification\n",
        "FROM negative_reviews;"
      ]
    },
    {
      "cell_type": "code",
      "execution_count": 14,
      "id": "40f4cd14",
      "metadata": {},
      "outputs": [],
      "source": [
        "%%sql\n",
        "-- AI_EXTRACT: Extract specific information from reviews\n",
        "-- Filter positive reviews first using CTE\n",
        "WITH positive_reviews AS (\n",
        "    SELECT\n",
        "        Id,\n",
        "        ProductId,\n",
        "        Text,\n",
        "        LEFT(Text, 100) as Review_Text\n",
        "    FROM temp.reviews\n",
        "    WHERE Score >= 4\n",
        "    LIMIT 10\n",
        ")\n",
        "SELECT\n",
        "    Id,\n",
        "    ProductId,\n",
        "    Review_Text,\n",
        "    cluster.AI_EXTRACT(\n",
        "        Text,\n",
        "        'Does this customer indicate they will buy this product again? Answer with yes, no, or unclear only'\n",
        "    ) AS repeat_purchase_intent\n",
        "FROM positive_reviews;"
      ]
    },
    {
      "cell_type": "code",
      "execution_count": 15,
      "id": "a09f2d5b",
      "metadata": {},
      "outputs": [],
      "source": [
        "%%sql\n",
        "-- AI_EXTRACT: Identify reviews with high churn risk\n",
        "-- Filter low-rated reviews first using CTE\n",
        "WITH low_rated_reviews AS (\n",
        "    SELECT\n",
        "        Id,\n",
        "        ProductId,\n",
        "        Score,\n",
        "        Text,\n",
        "        LEFT(Text, 120) as Review_Text\n",
        "    FROM temp.reviews\n",
        "    WHERE Score <= 2\n",
        "    LIMIT 10\n",
        ")\n",
        "SELECT\n",
        "    Id,\n",
        "    ProductId,\n",
        "    Score,\n",
        "    Review_Text,\n",
        "    cluster.AI_EXTRACT(\n",
        "        Text,\n",
        "        'Is this customer at high risk of not purchasing again? Answer with high, medium, or low only'\n",
        "    ) AS churn_risk\n",
        "FROM low_rated_reviews;"
      ]
    },
    {
      "cell_type": "code",
      "execution_count": 16,
      "id": "3d78f449",
      "metadata": {},
      "outputs": [],
      "source": [
        "%%sql\n",
        "-- AI_TRANSLATE: Translate text between languages\n",
        "-- Filter reviews with substantial summaries first using CTE\n",
        "WITH translatable_reviews AS (\n",
        "    SELECT\n",
        "        Id,\n",
        "        Summary as Original_English\n",
        "    FROM temp.reviews\n",
        "    WHERE Score = 5\n",
        "    AND Summary IS NOT NULL\n",
        "    AND LENGTH(Summary) > 20\n",
        "    LIMIT 5\n",
        ")\n",
        "SELECT\n",
        "    Id,\n",
        "    Original_English,\n",
        "    cluster.AI_TRANSLATE(\n",
        "        Original_English,\n",
        "        'english',\n",
        "        'spanish'\n",
        "    ) AS spanish_translation\n",
        "FROM translatable_reviews;"
      ]
    },
    {
      "cell_type": "code",
      "execution_count": 17,
      "id": "082dc59a",
      "metadata": {},
      "outputs": [],
      "source": [
        "%%sql\n",
        "-- Combined AI Functions: Comprehensive product analysis\n",
        "-- Filter to products with multiple reviews first\n",
        "WITH popular_products AS (\n",
        "    SELECT ProductId\n",
        "    FROM temp.reviews\n",
        "    GROUP BY ProductId\n",
        "    HAVING COUNT(*) >= 10\n",
        "    LIMIT 5\n",
        "),\n",
        "product_reviews AS (\n",
        "    SELECT\n",
        "        r.ProductId,\n",
        "        r.Text,\n",
        "        r.Score,\n",
        "        LEFT(r.Text, 80) as Review_Sample\n",
        "    FROM temp.reviews r\n",
        "    INNER JOIN popular_products p ON r.ProductId = p.ProductId\n",
        "    LIMIT 10\n",
        ")\n",
        "SELECT\n",
        "    ProductId,\n",
        "    Score,\n",
        "    Review_Sample,\n",
        "    cluster.AI_SENTIMENT(Text) as sentiment,\n",
        "    cluster.AI_CLASSIFY(Text, '[quality, value, taste, packaging]') as category,\n",
        "    cluster.AI_SUMMARIZE(Text, 'aifunctions_chat_default', 10) as brief_summary\n",
        "FROM product_reviews;"
      ]
    },
    {
      "attachments": {},
      "cell_type": "markdown",
      "id": "3573f922",
      "metadata": {},
      "source": [
        "## Cleanup"
      ]
    },
    {
      "cell_type": "code",
      "execution_count": 18,
      "id": "3927eb85",
      "metadata": {},
      "outputs": [],
      "source": [
        "%%sql\n",
        "DROP TABLE IF EXISTS reviews;\n",
        "DROP DATABASE IF EXISTS temp;"
      ]
    },
    {
      "id": "70af1a6f",
      "cell_type": "markdown",
      "metadata": {},
      "source": [
        "<div id=\"singlestore-footer\" style=\"background-color: rgba(194, 193, 199, 0.25); height:2px; margin-bottom:10px\"></div>\n",
        "<div><img src=\"https://raw.githubusercontent.com/singlestore-labs/spaces-notebooks/master/common/images/singlestore-logo-grey.png\" style=\"padding: 0px; margin: 0px; height: 24px\"/></div>"
      ]
    }
  ],
  "metadata": {
    "jupyterlab": {
      "notebooks": {
        "version_major": 6,
        "version_minor": 4
      }
    },
    "kernelspec": {
      "display_name": "Python 3 (ipykernel)",
      "language": "python",
      "name": "python3"
    },
    "language_info": {
      "codemirror_mode": {
        "name": "ipython",
        "version": 3
      },
      "file_extension": ".py",
      "mimetype": "text/x-python",
      "name": "python",
      "nbconvert_exporter": "python",
      "pygments_lexer": "ipython3",
      "version": "3.11.9"
    }
  },
  "nbformat": 4,
  "nbformat_minor": 5
}
