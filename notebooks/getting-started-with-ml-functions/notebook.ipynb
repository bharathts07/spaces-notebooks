{
  "cells": [
    {
      "id": "d9a6c944",
      "cell_type": "markdown",
      "metadata": {},
      "source": [
        "<div id=\"singlestore-header\" style=\"display: flex; background-color: rgba(235, 249, 245, 0.25); padding: 5px;\">\n",
        "    <div id=\"icon-image\" style=\"width: 90px; height: 90px;\">\n",
        "        <img width=\"100%\" height=\"100%\" src=\"https://raw.githubusercontent.com/singlestore-labs/spaces-notebooks/master/common/images/header-icons/browser.png\" />\n",
        "    </div>\n",
        "    <div id=\"text\" style=\"padding: 5px; margin-left: 10px;\">\n",
        "        <div id=\"badge\" style=\"display: inline-block; background-color: rgba(0, 0, 0, 0.15); border-radius: 4px; padding: 4px 8px; align-items: center; margin-top: 6px; margin-bottom: -2px; font-size: 80%\">SingleStore Notebooks</div>\n",
        "        <h1 style=\"font-weight: 500; margin: 8px 0 0 4px;\">Demonstrate ML function Classify</h1>\n",
        "    </div>\n",
        "</div>"
      ]
    },
    {
      "attachments": {},
      "cell_type": "markdown",
      "metadata": {},
      "source": [
        "<div class=\"alert alert-block alert-warning\">\n",
        "    <b class=\"fa fa-solid fa-exclamation-circle\"></b>\n",
        "    <div>\n",
        "        <p><b>Note</b></p>\n",
        "        <p>You can use your existing Standard or Premium workspace with this Notebook.</p>\n",
        "    </div>\n",
        "</div>\n",
        "\n",
        "\n",
        "This feature is currently in **Private Preview**. Please reach out to support@singlestore.com to confirm if this feature can be enabled in your org.\n",
        "\n",
        "This Jupyter notebook will help you:\n",
        "1. Load the titanic dataset\n",
        "2. Store the data in a SingleStore table\n",
        "3. Use ML Functions for training and predictions\n",
        "4. Run some common Data Analysis tasks\n",
        "\n",
        "**Prerequisites**: Ensure ML Functions are enabled on your deployment (AI Services > AI & ML Functions)."
      ],
      "id": "e5b97b82"
    },
    {
      "cell_type": "code",
      "execution_count": 1,
      "metadata": {},
      "outputs": [],
      "source": [
        "%%sql\n",
        "-- Ensure that ML_CLASSIFY is listed in Functions_in_cluster column\n",
        "use cluster;\n",
        "\n",
        "show functions;"
      ],
      "id": "a5610f23"
    },
    {
      "cell_type": "code",
      "execution_count": 2,
      "metadata": {},
      "outputs": [],
      "source": [
        "!pip install -q seaborn pandas numpy scikit-learn"
      ],
      "id": "1c891b9c"
    },
    {
      "attachments": {},
      "cell_type": "markdown",
      "metadata": {},
      "source": [
        "### Load and Prepare the Titanic Dataset\n",
        "\n",
        "We'll use the famous Titanic dataset from seaborn, which contains passenger information from the RMS Titanic. The goal is to predict whether a passenger survived based on features like age, sex, ticket class, and fare."
      ],
      "id": "89a194f3"
    },
    {
      "cell_type": "code",
      "execution_count": 3,
      "metadata": {},
      "outputs": [],
      "source": [
        "import seaborn as sns\n",
        "import pandas as pd\n",
        "import numpy as np\n",
        "from sklearn.model_selection import train_test_split\n",
        "\n",
        "# Load the Titanic dataset\n",
        "titanic_df = sns.load_dataset('titanic')\n",
        "\n",
        "# Display basic information\n",
        "print(f\"Dataset shape: {titanic_df.shape}\")\n",
        "print(f\"\\nColumn names: {list(titanic_df.columns)}\")\n",
        "print(f\"\\nFirst 5 rows:\")\n",
        "print(titanic_df.head())\n",
        "\n",
        "# Check survival distribution\n",
        "print(f\"\\nSurvival Distribution:\")\n",
        "print(titanic_df['survived'].value_counts())"
      ],
      "id": "891ebe48"
    },
    {
      "attachments": {},
      "cell_type": "markdown",
      "metadata": {},
      "source": [
        "### Clean and Prepare Features\n",
        "\n",
        "We'll select the most important features and handle missing values to create a clean dataset for training."
      ],
      "id": "6977b0a4"
    },
    {
      "cell_type": "code",
      "execution_count": 4,
      "metadata": {},
      "outputs": [],
      "source": [
        "# Select relevant columns for prediction\n",
        "columns_to_use = ['survived', 'pclass', 'sex', 'age', 'sibsp', 'parch', 'fare', 'embarked']\n",
        "titanic_clean = titanic_df[columns_to_use].copy()\n",
        "\n",
        "# Fill missing values\n",
        "titanic_clean['age'] = titanic_clean['age'].fillna(titanic_clean['age'].median())\n",
        "titanic_clean['fare'] = titanic_clean['fare'].fillna(titanic_clean['fare'].median())\n",
        "titanic_clean['embarked'] = titanic_clean['embarked'].fillna('S')  # Most common port\n",
        "\n",
        "# Drop any remaining rows with missing values\n",
        "titanic_clean = titanic_clean.dropna()\n",
        "\n",
        "# Convert survived to text labels for classification\n",
        "titanic_clean['survival_status'] = titanic_clean['survived'].map({\n",
        "    0: 'Died',\n",
        "    1: 'Survived'\n",
        "})\n",
        "\n",
        "# Drop the original numeric survived column\n",
        "titanic_clean = titanic_clean.drop('survived', axis=1)\n",
        "\n",
        "print(f\"Clean dataset shape: {titanic_clean.shape}\")\n",
        "print(f\"\\nMissing values per column:\")\n",
        "print(titanic_clean.isnull().sum())\n",
        "print(f\"\\nSurvival status distribution:\")\n",
        "print(titanic_clean['survival_status'].value_counts())\n",
        "print(f\"\\nFirst 5 rows of clean data:\")\n",
        "print(titanic_clean.head())"
      ],
      "id": "d3c92afe"
    },
    {
      "attachments": {},
      "cell_type": "markdown",
      "metadata": {},
      "source": [
        "### Split Data into Training and Test Sets\n",
        "\n",
        "We'll split the data into 80% training and 20% test sets to evaluate model performance."
      ],
      "id": "6206f158"
    },
    {
      "cell_type": "code",
      "execution_count": 5,
      "metadata": {},
      "outputs": [],
      "source": [
        "# Split into train (80%) and test (20%) sets\n",
        "train_df, test_df = train_test_split(\n",
        "    titanic_clean,\n",
        "    test_size=0.2,\n",
        "    random_state=42,\n",
        "    stratify=titanic_clean['survival_status']\n",
        ")\n",
        "\n",
        "print(f\"Training set size: {len(train_df)} passengers\")\n",
        "print(f\"Test set size: {len(test_df)} passengers\")\n",
        "print(f\"\\nTraining set survival distribution:\")\n",
        "print(train_df['survival_status'].value_counts())\n",
        "print(f\"\\nTest set survival distribution:\")\n",
        "print(test_df['survival_status'].value_counts())"
      ],
      "id": "0610ab81"
    },
    {
      "cell_type": "code",
      "execution_count": 6,
      "metadata": {},
      "outputs": [],
      "source": [
        "%%sql\n",
        "USE temp; -- replace with your own database name\n",
        "\n",
        "\n",
        "DROP TABLE IF EXISTS titanic_training_data;\n",
        "DROP TABLE IF EXISTS titanic_test_data;\n",
        "DROP TABLE IF EXISTS titanic_predictions;\n",
        "\n",
        "CREATE TABLE titanic_training_data (\n",
        "    pclass INT,\n",
        "    sex VARCHAR(10),\n",
        "    age FLOAT,\n",
        "    sibsp INT,\n",
        "    parch INT,\n",
        "    fare FLOAT,\n",
        "    embarked VARCHAR(1),\n",
        "    survival_status VARCHAR(10)\n",
        ");\n",
        "\n",
        "CREATE TABLE titanic_test_data (\n",
        "    pclass INT,\n",
        "    sex VARCHAR(10),\n",
        "    age FLOAT,\n",
        "    sibsp INT,\n",
        "    parch INT,\n",
        "    fare FLOAT,\n",
        "    embarked VARCHAR(1),\n",
        "    survival_status VARCHAR(10)\n",
        ");\n",
        "\n",
        "CREATE TABLE titanic_predictions (\n",
        "    pclass INT,\n",
        "    sex VARCHAR(10),\n",
        "    age FLOAT,\n",
        "    sibsp INT,\n",
        "    parch INT,\n",
        "    fare FLOAT,\n",
        "    embarked VARCHAR(1),\n",
        "    actual_status VARCHAR(10),\n",
        "    predicted_status VARCHAR(10)\n",
        ");"
      ],
      "id": "caa2aa64"
    },
    {
      "attachments": {},
      "cell_type": "markdown",
      "metadata": {},
      "source": [
        "### Load Data into SingleStore Tables\n",
        "\n",
        "We'll use pandas to insert the training and test data into our SingleStore tables."
      ],
      "id": "459e967c"
    },
    {
      "cell_type": "code",
      "execution_count": 7,
      "metadata": {},
      "outputs": [],
      "source": [
        "import singlestoredb as s2\n",
        "\n",
        "# Specify the database name in the connection URL\n",
        "database_name = 'temp'  # Replace with your actual database name\n",
        "\n",
        "# Create engine with database specified\n",
        "engine = s2.create_engine(database=database_name)\n",
        "\n",
        "\n",
        "\n",
        "# Insert training data\n",
        "train_df.to_sql(\n",
        "    'titanic_training_data',\n",
        "    con=engine,\n",
        "    # conn,\n",
        "    if_exists='append',\n",
        "    index=False,\n",
        "    method='multi'\n",
        ")\n",
        "\n",
        "# Insert test data\n",
        "test_df.to_sql(\n",
        "    'titanic_test_data',\n",
        "    con=engine,\n",
        "    # conn,\n",
        "    if_exists='append',\n",
        "    index=False,\n",
        "    method='multi'\n",
        ")\n",
        "\n",
        "print(f\"Inserted {len(train_df)} rows into titanic_training_data\")\n",
        "print(f\"Inserted {len(test_df)} rows into titanic_test_data\")"
      ],
      "id": "2c3a0d65"
    },
    {
      "attachments": {},
      "cell_type": "markdown",
      "metadata": {},
      "source": [
        "### Verify Data Load\n",
        "\n",
        "Let's verify that our data was loaded correctly and review the passenger demographics."
      ],
      "id": "26421f4f"
    },
    {
      "cell_type": "code",
      "execution_count": 8,
      "metadata": {},
      "outputs": [],
      "source": [
        "%%sql\n",
        "SELECT COUNT(*) as training_count FROM titanic_training_data;\n",
        "SELECT COUNT(*) as test_count FROM titanic_test_data;\n",
        "SELECT\n",
        "    survival_status,\n",
        "    COUNT(*) as passenger_count,\n",
        "    ROUND(AVG(age), 1) as avg_age,\n",
        "    ROUND(AVG(fare), 2) as avg_fare\n",
        "FROM titanic_training_data\n",
        "GROUP BY survival_status;\n",
        "SELECT * FROM titanic_training_data LIMIT 5;"
      ],
      "id": "49f3b05b"
    },
    {
      "attachments": {},
      "cell_type": "markdown",
      "metadata": {},
      "source": [
        "### Train the ML Classification Model\n",
        "\n",
        "Now we'll train an ML model using the `%s2ml train` magic command. This will use SingleStore's ML Functions to train a classification model that predicts passenger survival.\n",
        "\n",
        "**Note:** Training may take several minutes depending on the compute size selected. The model will learn patterns like \"women and children first\" and the impact of ticket class on survival."
      ],
      "id": "042927a9"
    },
    {
      "cell_type": "code",
      "execution_count": 9,
      "metadata": {},
      "outputs": [],
      "source": [
        "%%s2ml train as training_result\n",
        "task: classification\n",
        "model: titanic_survival_predictor\n",
        "db: temp #<your_database_name>\n",
        "input_table: titanic_training_data\n",
        "target_column: survival_status\n",
        "description: \"Titanic passenger survival prediction based on demographics and ticket info\"\n",
        "runtime: cpu-small\n",
        "selected_features: {\"mode\":\"*\",\"features\":null}"
      ],
      "id": "0382fa90"
    },
    {
      "attachments": {},
      "cell_type": "markdown",
      "metadata": {},
      "source": [
        "### Check Training Results\n",
        "\n",
        "The training result is assigned to the variable `training_result`. Let's examine the training details."
      ],
      "id": "16c8f8c6"
    },
    {
      "cell_type": "code",
      "execution_count": 10,
      "metadata": {},
      "outputs": [],
      "source": [
        "# Display the training result\n",
        "training_result"
      ],
      "id": "ae50a529"
    },
    {
      "attachments": {},
      "cell_type": "markdown",
      "metadata": {},
      "source": [
        "### Monitor Training Status\n",
        "\n",
        "Use the `%s2ml show` command to view the model details and training status. The status will be one of: Pre-processing, Training, Done, or Error."
      ],
      "id": "5ff6fa16"
    },
    {
      "cell_type": "code",
      "execution_count": 11,
      "metadata": {},
      "outputs": [],
      "source": [
        "# In [10]:\n",
        "%s2ml show --model titanic_survival_predictor"
      ],
      "id": "45edbab3"
    },
    {
      "attachments": {},
      "cell_type": "markdown",
      "metadata": {},
      "source": [
        "**Wait for training to complete** before proceeding to the next section. You can re-run the cell above to check the status. Once the status shows \"Done\", you can proceed with predictions.\n",
        "\n",
        "### Run Sample Predictions\n",
        "\n",
        "Once training is complete, let's run predictions on a few sample passengers from our test dataset to see how the model performs."
      ],
      "id": "e0c7eaff"
    },
    {
      "cell_type": "code",
      "execution_count": 12,
      "metadata": {},
      "outputs": [],
      "source": [
        "%%sql\n",
        "SELECT\n",
        "    cluster.ML_CLASSIFY('titanic_survival_predictor', TO_JSON(passenger.*)) as predicted_status,\n",
        "    passenger.survival_status as actual_status,\n",
        "    passenger.pclass as ticket_class,\n",
        "    passenger.sex,\n",
        "    passenger.age,\n",
        "    passenger.fare\n",
        "FROM (SELECT * FROM titanic_test_data LIMIT 10) AS passenger;"
      ],
      "id": "85f05f71"
    },
    {
      "attachments": {},
      "cell_type": "markdown",
      "metadata": {},
      "source": [
        "### Run Predictions on Full Test Dataset\n",
        "\n",
        "Now let's run predictions on the entire test dataset and store the results in our predictions table."
      ],
      "id": "8616a501"
    },
    {
      "cell_type": "code",
      "execution_count": 13,
      "metadata": {},
      "outputs": [],
      "source": [
        "# In [12]:\n",
        "%%sql\n",
        "INSERT INTO titanic_predictions (\n",
        "    pclass, sex, age, sibsp, parch, fare, embarked,\n",
        "    actual_status, predicted_status\n",
        ")\n",
        "SELECT\n",
        "    passenger.pclass,\n",
        "    passenger.sex,\n",
        "    passenger.age,\n",
        "    passenger.sibsp,\n",
        "    passenger.parch,\n",
        "    passenger.fare,\n",
        "    passenger.embarked,\n",
        "    passenger.survival_status as actual_status,\n",
        "    cluster.ML_CLASSIFY('titanic_survival_predictor', TO_JSON(passenger.*)) as predicted_status\n",
        "FROM titanic_test_data AS passenger;"
      ],
      "id": "3993868e"
    },
    {
      "attachments": {},
      "cell_type": "markdown",
      "metadata": {},
      "source": [
        "### Evaluate Model Performance\n",
        "\n",
        "Let's analyze the prediction accuracy by comparing actual vs predicted survival status."
      ],
      "id": "dc306a9a"
    },
    {
      "cell_type": "code",
      "execution_count": 14,
      "metadata": {},
      "outputs": [],
      "source": [
        "%%sql\n",
        "SELECT\n",
        "    COUNT(*) as total_predictions,\n",
        "    SUM(CASE WHEN actual_status = predicted_status THEN 1 ELSE 0 END) as correct_predictions,\n",
        "    ROUND(100.0 * SUM(CASE WHEN actual_status = predicted_status THEN 1 ELSE 0 END) / COUNT(*), 2) as accuracy_percentage\n",
        "FROM titanic_predictions;"
      ],
      "id": "def69045"
    },
    {
      "attachments": {},
      "cell_type": "markdown",
      "metadata": {},
      "source": [
        "### Analyze Survival Factors\n",
        "\n",
        "Let's examine how different passenger characteristics influenced survival predictions."
      ],
      "id": "3cf0f9a0"
    },
    {
      "cell_type": "code",
      "execution_count": 15,
      "metadata": {},
      "outputs": [],
      "source": [
        "%%sql\n",
        "-- Survival rate by sex\n",
        "SELECT\n",
        "    sex,\n",
        "    COUNT(*) as total_passengers,\n",
        "    SUM(CASE WHEN actual_status = 'Survived' THEN 1 ELSE 0 END) as actual_survivors,\n",
        "    ROUND(100.0 * SUM(CASE WHEN actual_status = 'Survived' THEN 1 ELSE 0 END) / COUNT(*), 1) as survival_rate_pct\n",
        "FROM titanic_predictions\n",
        "GROUP BY sex\n",
        "ORDER BY survival_rate_pct DESC;"
      ],
      "id": "9a7770b8"
    },
    {
      "cell_type": "code",
      "execution_count": 16,
      "metadata": {},
      "outputs": [],
      "source": [],
      "id": "d9598cae"
    },
    {
      "cell_type": "code",
      "execution_count": 17,
      "metadata": {},
      "outputs": [],
      "source": [
        "%%sql\n",
        "-- Survival rate by passenger class\n",
        "SELECT\n",
        "    pclass as ticket_class,\n",
        "    COUNT(*) as total_passengers,\n",
        "    SUM(CASE WHEN actual_status = 'Survived' THEN 1 ELSE 0 END) as actual_survivors,\n",
        "    ROUND(100.0 * SUM(CASE WHEN actual_status = 'Survived' THEN 1 ELSE 0 END) / COUNT(*), 1) as survival_rate_pct,\n",
        "    ROUND(AVG(fare), 2) as avg_fare_paid\n",
        "FROM titanic_predictions\n",
        "GROUP BY pclass\n",
        "ORDER BY pclass;"
      ],
      "id": "598504a9"
    },
    {
      "attachments": {},
      "cell_type": "markdown",
      "metadata": {},
      "source": [
        "### Examine Misclassified Passengers\n",
        "\n",
        "Let's look at passengers where the model made incorrect predictions to understand potential model limitations."
      ],
      "id": "a96a3d39"
    },
    {
      "cell_type": "code",
      "execution_count": 18,
      "metadata": {},
      "outputs": [],
      "source": [
        "%%sql\n",
        "SELECT\n",
        "    actual_status,\n",
        "    predicted_status,\n",
        "    pclass as ticket_class,\n",
        "    sex,\n",
        "    age,\n",
        "    sibsp as siblings_spouses,\n",
        "    parch as parents_children,\n",
        "    fare,\n",
        "    embarked\n",
        "FROM titanic_predictions\n",
        "WHERE actual_status != predicted_status\n",
        "LIMIT 15;"
      ],
      "id": "3f26a7f0"
    },
    {
      "cell_type": "markdown",
      "metadata": {},
      "source": [
        "# Cleanup"
      ],
      "id": "2b054d99"
    },
    {
      "cell_type": "code",
      "execution_count": 19,
      "metadata": {},
      "outputs": [],
      "source": [
        "%%sql\n",
        "DROP TABLE IF EXISTS titanic_training_data;\n",
        "DROP TABLE IF EXISTS titanic_test_data;\n",
        "DROP TABLE IF EXISTS titanic_predictions;"
      ],
      "id": "abbc0dbb"
    },
    {
      "id": "0e8b6ce3",
      "cell_type": "markdown",
      "metadata": {},
      "source": [
        "<div id=\"singlestore-footer\" style=\"background-color: rgba(194, 193, 199, 0.25); height:2px; margin-bottom:10px\"></div>\n",
        "<div><img src=\"https://raw.githubusercontent.com/singlestore-labs/spaces-notebooks/master/common/images/singlestore-logo-grey.png\" style=\"padding: 0px; margin: 0px; height: 24px\"/></div>"
      ]
    }
  ],
  "metadata": {
    "jupyterlab": {
      "notebooks": {
        "version_major": 6,
        "version_minor": 4
      }
    },
    "kernelspec": {
      "display_name": "Python 3 (ipykernel)",
      "language": "python",
      "name": "python3"
    },
    "language_info": {
      "codemirror_mode": {
        "name": "ipython",
        "version": 3
      },
      "file_extension": ".py",
      "mimeType": "text/x-python",
      "name": "python",
      "nbconvert_exporter": "python",
      "pygments_lexer": "ipython3",
      "version": "3.11.9"
    }
  },
  "nbformat": 4,
  "nbformat_minor": 5
}
