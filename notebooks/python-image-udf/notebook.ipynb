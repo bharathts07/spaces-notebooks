{
  "cells": [
    {
      "id": "b216cfed",
      "cell_type": "markdown",
      "metadata": {},
      "source": [
        "<div id=\"singlestore-header\" style=\"display: flex; background-color: rgba(235, 249, 245, 0.25); padding: 5px;\">\n",
        "    <div id=\"icon-image\" style=\"width: 90px; height: 90px;\">\n",
        "        <img width=\"100%\" height=\"100%\" src=\"https://raw.githubusercontent.com/singlestore-labs/spaces-notebooks/master/common/images/header-icons/browser.png\" />\n",
        "    </div>\n",
        "    <div id=\"text\" style=\"padding: 5px; margin-left: 10px;\">\n",
        "        <div id=\"badge\" style=\"display: inline-block; background-color: rgba(0, 0, 0, 0.15); border-radius: 4px; padding: 4px 8px; align-items: center; margin-top: 6px; margin-bottom: -2px; font-size: 80%\">SingleStore Notebooks</div>\n",
        "        <h1 style=\"font-weight: 500; margin: 8px 0 0 4px;\">Python UDF to process images</h1>\n",
        "    </div>\n",
        "</div>"
      ]
    },
    {
      "cell_type": "markdown",
      "metadata": {},
      "source": [
        "<div class=\"alert alert-block alert-info\">\n",
        "    <b class=\"fa fa-solid fa-info-circle\"></b>\n",
        "    <div>\n",
        "        <p><b>Note</b></p>\n",
        "        <p>This tutorial is meant for Standard & Premium Workspaces. You can't run this with a Free Starter Workspace due to restrictions on Storage. Create a Workspace using +group in the left nav & select Standard for this notebook. Gallery notebooks tagged with \"Starter\" are suitable to run on a Free Starter Workspace </p>\n",
        "    </div>\n",
        "</div>"
      ],
      "id": "286311fb"
    },
    {
      "cell_type": "code",
      "execution_count": 1,
      "metadata": {},
      "outputs": [],
      "source": [
        "# Install and Import Required Libraries\n",
        "!pip install -q langchain==0.3.27 langchain-openai==0.2.10 langchain-community==0.3.25 langchain-core==0.3.72 pillow aiofiles"
      ],
      "id": "6c362a23"
    },
    {
      "cell_type": "code",
      "execution_count": 2,
      "metadata": {},
      "outputs": [],
      "source": [
        "from singlestoredb.functions import udf\n",
        "import singlestoredb.apps as apps\n",
        "from singlestoredb.management import get_secret\n",
        "from openai import AsyncOpenAI\n",
        "import base64\n",
        "import aiohttp\n",
        "from PIL import Image\n",
        "import io\n",
        "import asyncio\n",
        "# Additional imports for audio processing\n",
        "import aiofiles\n",
        "import tempfile\n",
        "\n",
        "# Configuration for the Multimodal LLM ( Replace with the Path and Auth of your model )\n",
        "INFERENCE_API_MODEL_NAME_1 = \"gpt-4-1\"\n",
        "INFERENCE_API_MODEL_API_ENDPOINT_1 = \"https://ai.us-east-1.cloud.singlestore.com/b45ad4a4-a620-4ed0-9ffc-76d83ebf9bc7/v1\"\n",
        "INFERENCE_API_MODEL_API_AUTH_1 = get_secret('GPT_4_1')\n",
        "\n",
        "# Setup AsyncOpenAI Client\n",
        "async_llm_client = AsyncOpenAI(\n",
        "    api_key=INFERENCE_API_MODEL_API_AUTH_1,\n",
        "    base_url=INFERENCE_API_MODEL_API_ENDPOINT_1\n",
        ")\n",
        "\n",
        "async def download_image_from_url(image_url: str, max_size: int = 1024) -> str:\n",
        "    \"\"\"\n",
        "    Download image from URL and encode to base64 for GPT-4o Vision API\n",
        "\n",
        "    Parameters:\n",
        "    - image_url: URL of the image to download\n",
        "    - max_size: Maximum size to resize image to save on API costs\n",
        "\n",
        "    Returns:\n",
        "    - Base64 encoded image string\n",
        "    \"\"\"\n",
        "    try:\n",
        "        # Set proper headers to avoid 403 errors\n",
        "        headers = {\n",
        "            'User-Agent': 'SingleStore-ImageAnalyzer/1.0 (Product-Manager-Bot; https://singlestore.com)',\n",
        "            'Accept': 'image/jpeg,image/png,image/webp,image/*,*/*;q=0.8',\n",
        "            'Accept-Language': 'en-US,en;q=0.5',\n",
        "            'Accept-Encoding': 'gzip, deflate',\n",
        "            'DNT': '1',\n",
        "            'Connection': 'keep-alive',\n",
        "            'Upgrade-Insecure-Requests': '1',\n",
        "        }\n",
        "\n",
        "        # Configure timeout settings\n",
        "        timeout = aiohttp.ClientTimeout(total=30)\n",
        "\n",
        "        # Download image from URL with proper headers\n",
        "        async with aiohttp.ClientSession(headers=headers, timeout=timeout) as session:\n",
        "            async with session.get(image_url) as response:\n",
        "                if response.status != 200:\n",
        "                    raise Exception(f\"Failed to download image: HTTP {response.status}\")\n",
        "\n",
        "                image_data = await response.read()\n",
        "\n",
        "        # Process image with PIL\n",
        "        with Image.open(io.BytesIO(image_data)) as img:\n",
        "            # Convert to RGB if needed\n",
        "            if img.mode in (\"RGBA\", \"P\"):\n",
        "                img = img.convert(\"RGB\")\n",
        "\n",
        "            # Resize if too large to save on API costs\n",
        "            if max(img.size) > max_size:\n",
        "                img.thumbnail((max_size, max_size), Image.Resampling.LANCZOS)\n",
        "\n",
        "            # Convert to base64\n",
        "            buffer = io.BytesIO()\n",
        "            img.save(buffer, format='JPEG', quality=85)\n",
        "            return base64.b64encode(buffer.getvalue()).decode('utf-8')\n",
        "\n",
        "    except Exception as e:\n",
        "        raise Exception(f\"Error processing image from URL {image_url}: {str(e)}\")\n",
        "\n",
        "@udf\n",
        "async def AI_IMG_COMPLETE(image_url: str, prompt: str) -> str:\n",
        "    \"\"\"\n",
        "    Process image from URL with GPT-4o Vision and return analysis\n",
        "\n",
        "    Parameters:\n",
        "    - image_url: URL of the image to analyze\n",
        "    - prompt: Text prompt for the vision model\n",
        "\n",
        "    Returns:\n",
        "    - String output from GPT-4o vision analysis\n",
        "    \"\"\"\n",
        "\n",
        "    try:\n",
        "        # Download and encode image\n",
        "        base64_image = await download_image_from_url(image_url)\n",
        "\n",
        "        # Create vision request\n",
        "        messages = [{\n",
        "            \"role\": \"user\",\n",
        "            \"content\": [\n",
        "                {\n",
        "                    \"type\": \"text\",\n",
        "                    \"text\": prompt\n",
        "                },\n",
        "                {\n",
        "                    \"type\": \"image_url\",\n",
        "                    \"image_url\": {\n",
        "                        \"url\": f\"data:image/jpeg;base64,{base64_image}\",\n",
        "                        \"detail\": \"high\"\n",
        "                    }\n",
        "                }\n",
        "            ]\n",
        "        }]\n",
        "\n",
        "        # Call GPT-4o Vision API\n",
        "        response = await async_llm_client.chat.completions.create(\n",
        "            model=INFERENCE_API_MODEL_NAME_1,\n",
        "            messages=messages,\n",
        "            max_tokens=500,\n",
        "            temperature=0.2\n",
        "        )\n",
        "\n",
        "        return response.choices[0].message.content\n",
        "\n",
        "    except Exception as e:\n",
        "        error_msg = f\"Error processing image analysis: {str(e)}\"\n",
        "        return error_msg"
      ],
      "id": "8f723d33"
    },
    {
      "cell_type": "code",
      "execution_count": 3,
      "metadata": {},
      "outputs": [
        {
          "name": "stdout",
          "output_type": "stream",
          "text": [
            "Python UDF registered at https://apps.us-east-1.cloud.singlestore.com/pythonudfs/ebbb37c3-66f7-415a-aa78-c3599fbcc191/interactive/\n"
          ]
        }
      ],
      "source": [
        "# Start Python UDF server\n",
        "connection_info = await apps.run_udf_app()"
      ],
      "id": "d1f55ca4"
    },
    {
      "attachments": {},
      "cell_type": "markdown",
      "metadata": {},
      "source": [
        "## Publish the Notebook as a UDF\n",
        "\n",
        "\n",
        "1. Click on the publish button at the top right of your notebook editor window to publish these functions in"
      ],
      "id": "026ef6ef"
    },
    {
      "attachments": {},
      "cell_type": "markdown",
      "metadata": {},
      "source": [
        "## Now open a  *NEW* SQL Editor and run the following commands to test the functioning of the UDFs"
      ],
      "id": "18cfb448"
    },
    {
      "cell_type": "markdown",
      "metadata": {},
      "source": [
        "## SQL Commands\n",
        "```\n",
        "SHOW functions;\n",
        "```\n",
        "\n",
        "### Example 1: Analyze a sample image with AI_IMG_COMPLETE\n",
        "\n",
        "```\n",
        "SELECT AI_IMG_COMPLETE(\n",
        "    'https://upload.wikimedia.org/wikipedia/commons/b/b6/Mount_Everest_as_seen_from_Drukair2_PLW_edit_Cropped.jpg',\n",
        "    'which country do you think this image is from? Answer in one word'\n",
        ") as analysis_result;\n",
        "```\n",
        "\n",
        "### Example 2: Multiple images ( Better if done in batches)\n",
        "\n",
        "```\n",
        "SELECT\n",
        "    image_url,\n",
        "    AI_IMG_COMPLETE(image_url, 'describe the main subject matter in 15 words or less') as description\n",
        "FROM (\n",
        "    SELECT 'https://upload.wikimedia.org/wikipedia/commons/4/41/A_Man_on_the_Moon%2C_AS11-40-5903_%28cropped%29.jpg' as image_url\n",
        "    UNION ALL\n",
        "    SELECT 'https://upload.wikimedia.org/wikipedia/commons/4/4c/Series-N700a-Mt.Fuji.jpg'\n",
        "    UNION ALL\n",
        "    SELECT 'https://upload.wikimedia.org/wikipedia/commons/b/b6/Mount_Everest_as_seen_from_Drukair2_PLW_edit_Cropped.jpg'\n",
        ") as test_images;\n",
        "```"
      ],
      "id": "cf78be2a"
    },
    {
      "id": "88d30da9",
      "cell_type": "markdown",
      "metadata": {},
      "source": [
        "<div id=\"singlestore-footer\" style=\"background-color: rgba(194, 193, 199, 0.25); height:2px; margin-bottom:10px\"></div>\n",
        "<div><img src=\"https://raw.githubusercontent.com/singlestore-labs/spaces-notebooks/master/common/images/singlestore-logo-grey.png\" style=\"padding: 0px; margin: 0px; height: 24px\"/></div>"
      ]
    }
  ],
  "metadata": {
    "jupyterlab": {
      "notebooks": {
        "version_major": 6,
        "version_minor": 4
      }
    },
    "kernelspec": {
      "display_name": "Python 3 (ipykernel)",
      "language": "python",
      "name": "python3"
    },
    "language_info": {
      "codemirror_mode": {
        "name": "ipython",
        "version": 3
      },
      "file_extension": ".py",
      "mimeType": "text/x-python",
      "name": "python",
      "nbconvert_exporter": "python",
      "pygments_lexer": "ipython3",
      "version": "3.11.9"
    }
  },
  "nbformat": 4,
  "nbformat_minor": 5
}
